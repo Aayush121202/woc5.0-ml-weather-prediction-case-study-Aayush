{
 "cells": [
  {
   "cell_type": "code",
   "execution_count": 23,
   "id": "a4a5bf0a",
   "metadata": {},
   "outputs": [],
   "source": [
    "import pandas as pd\n",
    "import numpy as np\n",
    "import matplotlib.pyplot as plt\n",
    "import seaborn as sb\n"
   ]
  },
  {
   "cell_type": "code",
   "execution_count": 2,
   "id": "51f6e43c",
   "metadata": {},
   "outputs": [],
   "source": [
    "file='C:/Users/patel/Downloads/weather.csv'"
   ]
  },
  {
   "cell_type": "code",
   "execution_count": 3,
   "id": "1cdb0d9c",
   "metadata": {},
   "outputs": [],
   "source": [
    "df=pd.read_csv(file, encoding ='ascii')"
   ]
  },
  {
   "cell_type": "code",
   "execution_count": 4,
   "id": "e0450c22",
   "metadata": {},
   "outputs": [
    {
     "data": {
      "text/html": [
       "<div>\n",
       "<style scoped>\n",
       "    .dataframe tbody tr th:only-of-type {\n",
       "        vertical-align: middle;\n",
       "    }\n",
       "\n",
       "    .dataframe tbody tr th {\n",
       "        vertical-align: top;\n",
       "    }\n",
       "\n",
       "    .dataframe thead th {\n",
       "        text-align: right;\n",
       "    }\n",
       "</style>\n",
       "<table border=\"1\" class=\"dataframe\">\n",
       "  <thead>\n",
       "    <tr style=\"text-align: right;\">\n",
       "      <th></th>\n",
       "      <th>precipitation</th>\n",
       "      <th>temp_max</th>\n",
       "      <th>temp_min</th>\n",
       "      <th>wind</th>\n",
       "      <th>weather</th>\n",
       "    </tr>\n",
       "  </thead>\n",
       "  <tbody>\n",
       "    <tr>\n",
       "      <th>0</th>\n",
       "      <td>0.0</td>\n",
       "      <td>12.8</td>\n",
       "      <td>5.0</td>\n",
       "      <td>4.7</td>\n",
       "      <td>drizzle</td>\n",
       "    </tr>\n",
       "    <tr>\n",
       "      <th>1</th>\n",
       "      <td>10.9</td>\n",
       "      <td>10.6</td>\n",
       "      <td>2.8</td>\n",
       "      <td>4.5</td>\n",
       "      <td>rain</td>\n",
       "    </tr>\n",
       "    <tr>\n",
       "      <th>2</th>\n",
       "      <td>0.8</td>\n",
       "      <td>11.7</td>\n",
       "      <td>7.2</td>\n",
       "      <td>2.3</td>\n",
       "      <td>rain</td>\n",
       "    </tr>\n",
       "    <tr>\n",
       "      <th>3</th>\n",
       "      <td>20.3</td>\n",
       "      <td>12.2</td>\n",
       "      <td>5.6</td>\n",
       "      <td>4.7</td>\n",
       "      <td>rain</td>\n",
       "    </tr>\n",
       "    <tr>\n",
       "      <th>4</th>\n",
       "      <td>1.3</td>\n",
       "      <td>8.9</td>\n",
       "      <td>2.8</td>\n",
       "      <td>6.1</td>\n",
       "      <td>rain</td>\n",
       "    </tr>\n",
       "  </tbody>\n",
       "</table>\n",
       "</div>"
      ],
      "text/plain": [
       "   precipitation  temp_max  temp_min  wind  weather\n",
       "0            0.0      12.8       5.0   4.7  drizzle\n",
       "1           10.9      10.6       2.8   4.5     rain\n",
       "2            0.8      11.7       7.2   2.3     rain\n",
       "3           20.3      12.2       5.6   4.7     rain\n",
       "4            1.3       8.9       2.8   6.1     rain"
      ]
     },
     "execution_count": 4,
     "metadata": {},
     "output_type": "execute_result"
    }
   ],
   "source": [
    "df.head()"
   ]
  },
  {
   "cell_type": "code",
   "execution_count": 5,
   "id": "4bb3cf81",
   "metadata": {},
   "outputs": [],
   "source": [
    "from sklearn.model_selection import train_test_split"
   ]
  },
  {
   "cell_type": "code",
   "execution_count": 6,
   "id": "1975985c",
   "metadata": {},
   "outputs": [],
   "source": [
    "X=df[['precipitation','wind','temp_max','temp_min']]\n",
    "y=df['weather']"
   ]
  },
  {
   "cell_type": "code",
   "execution_count": 7,
   "id": "4dc640fa",
   "metadata": {},
   "outputs": [],
   "source": [
    "#performing test train split\n",
    "X_train, X_test, y_train, y_test = train_test_split(X, y, test_size=0.35, random_state=42)"
   ]
  },
  {
   "cell_type": "code",
   "execution_count": 8,
   "id": "adf89f36",
   "metadata": {},
   "outputs": [
    {
     "name": "stdout",
     "output_type": "stream",
     "text": [
      "X_train dimension=  (949, 4)\n",
      "X_test dimension=  (512, 4)\n",
      "y_train dimension=  (949,)\n",
      "y_train dimension=  (512,)\n"
     ]
    }
   ],
   "source": [
    "print('X_train dimension= ', X_train.shape)\n",
    "print('X_test dimension= ', X_test.shape)\n",
    "print('y_train dimension= ', y_train.shape)\n",
    "print('y_train dimension= ', y_test.shape)"
   ]
  },
  {
   "cell_type": "code",
   "execution_count": 9,
   "id": "e98e51a4",
   "metadata": {},
   "outputs": [],
   "source": [
    "from sklearn.tree import DecisionTreeClassifier\n"
   ]
  },
  {
   "cell_type": "code",
   "execution_count": 39,
   "id": "95a9a0f7",
   "metadata": {},
   "outputs": [],
   "source": [
    "#Initializing model using Decision Tree\n",
    "model=DecisionTreeClassifier(criterion=\"entropy\",max_depth=5)"
   ]
  },
  {
   "cell_type": "code",
   "execution_count": 40,
   "id": "ead8af52",
   "metadata": {},
   "outputs": [
    {
     "data": {
      "text/html": [
       "<style>#sk-container-id-4 {color: black;background-color: white;}#sk-container-id-4 pre{padding: 0;}#sk-container-id-4 div.sk-toggleable {background-color: white;}#sk-container-id-4 label.sk-toggleable__label {cursor: pointer;display: block;width: 100%;margin-bottom: 0;padding: 0.3em;box-sizing: border-box;text-align: center;}#sk-container-id-4 label.sk-toggleable__label-arrow:before {content: \"▸\";float: left;margin-right: 0.25em;color: #696969;}#sk-container-id-4 label.sk-toggleable__label-arrow:hover:before {color: black;}#sk-container-id-4 div.sk-estimator:hover label.sk-toggleable__label-arrow:before {color: black;}#sk-container-id-4 div.sk-toggleable__content {max-height: 0;max-width: 0;overflow: hidden;text-align: left;background-color: #f0f8ff;}#sk-container-id-4 div.sk-toggleable__content pre {margin: 0.2em;color: black;border-radius: 0.25em;background-color: #f0f8ff;}#sk-container-id-4 input.sk-toggleable__control:checked~div.sk-toggleable__content {max-height: 200px;max-width: 100%;overflow: auto;}#sk-container-id-4 input.sk-toggleable__control:checked~label.sk-toggleable__label-arrow:before {content: \"▾\";}#sk-container-id-4 div.sk-estimator input.sk-toggleable__control:checked~label.sk-toggleable__label {background-color: #d4ebff;}#sk-container-id-4 div.sk-label input.sk-toggleable__control:checked~label.sk-toggleable__label {background-color: #d4ebff;}#sk-container-id-4 input.sk-hidden--visually {border: 0;clip: rect(1px 1px 1px 1px);clip: rect(1px, 1px, 1px, 1px);height: 1px;margin: -1px;overflow: hidden;padding: 0;position: absolute;width: 1px;}#sk-container-id-4 div.sk-estimator {font-family: monospace;background-color: #f0f8ff;border: 1px dotted black;border-radius: 0.25em;box-sizing: border-box;margin-bottom: 0.5em;}#sk-container-id-4 div.sk-estimator:hover {background-color: #d4ebff;}#sk-container-id-4 div.sk-parallel-item::after {content: \"\";width: 100%;border-bottom: 1px solid gray;flex-grow: 1;}#sk-container-id-4 div.sk-label:hover label.sk-toggleable__label {background-color: #d4ebff;}#sk-container-id-4 div.sk-serial::before {content: \"\";position: absolute;border-left: 1px solid gray;box-sizing: border-box;top: 0;bottom: 0;left: 50%;z-index: 0;}#sk-container-id-4 div.sk-serial {display: flex;flex-direction: column;align-items: center;background-color: white;padding-right: 0.2em;padding-left: 0.2em;position: relative;}#sk-container-id-4 div.sk-item {position: relative;z-index: 1;}#sk-container-id-4 div.sk-parallel {display: flex;align-items: stretch;justify-content: center;background-color: white;position: relative;}#sk-container-id-4 div.sk-item::before, #sk-container-id-4 div.sk-parallel-item::before {content: \"\";position: absolute;border-left: 1px solid gray;box-sizing: border-box;top: 0;bottom: 0;left: 50%;z-index: -1;}#sk-container-id-4 div.sk-parallel-item {display: flex;flex-direction: column;z-index: 1;position: relative;background-color: white;}#sk-container-id-4 div.sk-parallel-item:first-child::after {align-self: flex-end;width: 50%;}#sk-container-id-4 div.sk-parallel-item:last-child::after {align-self: flex-start;width: 50%;}#sk-container-id-4 div.sk-parallel-item:only-child::after {width: 0;}#sk-container-id-4 div.sk-dashed-wrapped {border: 1px dashed gray;margin: 0 0.4em 0.5em 0.4em;box-sizing: border-box;padding-bottom: 0.4em;background-color: white;}#sk-container-id-4 div.sk-label label {font-family: monospace;font-weight: bold;display: inline-block;line-height: 1.2em;}#sk-container-id-4 div.sk-label-container {text-align: center;}#sk-container-id-4 div.sk-container {/* jupyter's `normalize.less` sets `[hidden] { display: none; }` but bootstrap.min.css set `[hidden] { display: none !important; }` so we also need the `!important` here to be able to override the default hidden behavior on the sphinx rendered scikit-learn.org. See: https://github.com/scikit-learn/scikit-learn/issues/21755 */display: inline-block !important;position: relative;}#sk-container-id-4 div.sk-text-repr-fallback {display: none;}</style><div id=\"sk-container-id-4\" class=\"sk-top-container\"><div class=\"sk-text-repr-fallback\"><pre>DecisionTreeClassifier(criterion=&#x27;entropy&#x27;, max_depth=5)</pre><b>In a Jupyter environment, please rerun this cell to show the HTML representation or trust the notebook. <br />On GitHub, the HTML representation is unable to render, please try loading this page with nbviewer.org.</b></div><div class=\"sk-container\" hidden><div class=\"sk-item\"><div class=\"sk-estimator sk-toggleable\"><input class=\"sk-toggleable__control sk-hidden--visually\" id=\"sk-estimator-id-4\" type=\"checkbox\" checked><label for=\"sk-estimator-id-4\" class=\"sk-toggleable__label sk-toggleable__label-arrow\">DecisionTreeClassifier</label><div class=\"sk-toggleable__content\"><pre>DecisionTreeClassifier(criterion=&#x27;entropy&#x27;, max_depth=5)</pre></div></div></div></div></div>"
      ],
      "text/plain": [
       "DecisionTreeClassifier(criterion='entropy', max_depth=5)"
      ]
     },
     "execution_count": 40,
     "metadata": {},
     "output_type": "execute_result"
    }
   ],
   "source": [
    "#fitting the data in the model\n",
    "model.fit(X_train, y_train)"
   ]
  },
  {
   "cell_type": "code",
   "execution_count": 41,
   "id": "5954b32d",
   "metadata": {},
   "outputs": [],
   "source": [
    "#predicting on test data\n",
    "y_pred = model.predict(X_test)"
   ]
  },
  {
   "cell_type": "code",
   "execution_count": 42,
   "id": "026dd12b",
   "metadata": {},
   "outputs": [
    {
     "name": "stdout",
     "output_type": "stream",
     "text": [
      "['sun' 'rain' 'sun' 'sun' 'rain' 'rain' 'sun' 'sun' 'rain' 'sun' 'sun'\n",
      " 'sun' 'rain' 'sun' 'sun' 'rain' 'sun' 'sun' 'sun' 'sun' 'rain' 'sun'\n",
      " 'rain' 'sun' 'sun' 'rain' 'sun' 'sun' 'sun' 'sun' 'rain' 'sun' 'sun'\n",
      " 'snow' 'sun' 'rain' 'rain' 'rain' 'rain' 'sun' 'rain' 'sun' 'sun' 'sun'\n",
      " 'sun' 'rain' 'rain' 'sun' 'rain' 'sun' 'sun' 'rain' 'sun' 'rain' 'sun'\n",
      " 'rain' 'rain' 'sun' 'rain' 'sun' 'rain' 'sun' 'rain' 'drizzle' 'sun'\n",
      " 'sun' 'rain' 'sun' 'rain' 'rain' 'rain' 'sun' 'sun' 'rain' 'rain' 'sun'\n",
      " 'rain' 'sun' 'rain' 'rain' 'rain' 'sun' 'rain' 'sun' 'rain' 'sun' 'sun'\n",
      " 'rain' 'sun' 'rain' 'rain' 'sun' 'sun' 'rain' 'rain' 'sun' 'sun' 'rain'\n",
      " 'sun' 'rain' 'sun' 'sun' 'rain' 'snow' 'rain' 'sun' 'sun' 'rain' 'sun'\n",
      " 'rain' 'rain' 'sun' 'rain' 'rain' 'sun' 'drizzle' 'sun' 'sun' 'sun'\n",
      " 'rain' 'rain' 'rain' 'rain' 'rain' 'sun' 'sun' 'sun' 'sun' 'sun' 'sun'\n",
      " 'sun' 'sun' 'sun' 'sun' 'sun' 'sun' 'rain' 'rain' 'rain' 'sun' 'sun'\n",
      " 'sun' 'rain' 'rain' 'sun' 'sun' 'sun' 'rain' 'sun' 'sun' 'rain' 'sun'\n",
      " 'sun' 'sun' 'rain' 'snow' 'sun' 'sun' 'rain' 'rain' 'sun' 'sun' 'rain'\n",
      " 'sun' 'sun' 'rain' 'rain' 'sun' 'sun' 'sun' 'rain' 'rain' 'sun' 'sun'\n",
      " 'rain' 'rain' 'sun' 'sun' 'sun' 'rain' 'sun' 'sun' 'sun' 'rain' 'rain'\n",
      " 'sun' 'rain' 'rain' 'sun' 'sun' 'sun' 'sun' 'sun' 'rain' 'sun' 'sun'\n",
      " 'sun' 'rain' 'rain' 'rain' 'rain' 'sun' 'drizzle' 'rain' 'sun' 'rain'\n",
      " 'snow' 'sun' 'snow' 'sun' 'rain' 'sun' 'sun' 'sun' 'sun' 'sun' 'sun'\n",
      " 'sun' 'rain' 'sun' 'rain' 'sun' 'sun' 'sun' 'sun' 'rain' 'sun' 'rain'\n",
      " 'sun' 'snow' 'sun' 'rain' 'sun' 'sun' 'rain' 'sun' 'sun' 'sun' 'sun'\n",
      " 'sun' 'rain' 'rain' 'sun' 'rain' 'sun' 'sun' 'sun' 'sun' 'rain' 'rain'\n",
      " 'rain' 'rain' 'rain' 'sun' 'sun' 'sun' 'rain' 'sun' 'rain' 'rain' 'rain'\n",
      " 'rain' 'sun' 'rain' 'sun' 'sun' 'rain' 'sun' 'sun' 'sun' 'sun' 'sun'\n",
      " 'sun' 'rain' 'sun' 'sun' 'rain' 'rain' 'sun' 'sun' 'sun' 'rain' 'sun'\n",
      " 'sun' 'sun' 'sun' 'rain' 'sun' 'sun' 'rain' 'sun' 'rain' 'sun' 'sun'\n",
      " 'rain' 'rain' 'sun' 'rain' 'rain' 'rain' 'rain' 'rain' 'rain' 'rain'\n",
      " 'rain' 'rain' 'rain' 'sun' 'sun' 'sun' 'rain' 'rain' 'rain' 'sun' 'rain'\n",
      " 'sun' 'sun' 'rain' 'sun' 'sun' 'rain' 'rain' 'rain' 'sun' 'sun' 'rain'\n",
      " 'snow' 'sun' 'sun' 'sun' 'sun' 'rain' 'rain' 'sun' 'sun' 'sun' 'rain'\n",
      " 'rain' 'rain' 'rain' 'rain' 'sun' 'rain' 'rain' 'sun' 'rain' 'sun' 'sun'\n",
      " 'rain' 'rain' 'sun' 'sun' 'sun' 'rain' 'sun' 'rain' 'sun' 'sun' 'sun'\n",
      " 'sun' 'sun' 'sun' 'sun' 'rain' 'rain' 'rain' 'sun' 'sun' 'sun' 'sun'\n",
      " 'rain' 'rain' 'rain' 'rain' 'rain' 'sun' 'rain' 'rain' 'rain' 'sun'\n",
      " 'rain' 'sun' 'sun' 'sun' 'sun' 'rain' 'rain' 'sun' 'sun' 'rain' 'rain'\n",
      " 'sun' 'sun' 'sun' 'rain' 'sun' 'sun' 'sun' 'rain' 'rain' 'rain' 'sun'\n",
      " 'sun' 'sun' 'sun' 'rain' 'sun' 'sun' 'sun' 'sun' 'sun' 'sun' 'sun' 'sun'\n",
      " 'sun' 'sun' 'rain' 'rain' 'sun' 'sun' 'sun' 'sun' 'sun' 'sun' 'sun'\n",
      " 'rain' 'sun' 'sun' 'snow' 'sun' 'rain' 'sun' 'sun' 'sun' 'rain' 'rain'\n",
      " 'sun' 'rain' 'sun' 'snow' 'rain' 'sun' 'rain' 'sun' 'rain' 'rain' 'rain'\n",
      " 'rain' 'sun' 'sun' 'sun' 'rain' 'rain' 'sun' 'rain' 'sun' 'sun' 'sun'\n",
      " 'sun' 'sun' 'rain' 'rain' 'sun' 'rain' 'sun' 'sun' 'rain' 'sun' 'rain'\n",
      " 'sun' 'sun' 'rain' 'sun' 'sun' 'sun' 'sun' 'sun' 'sun' 'rain' 'rain'\n",
      " 'rain' 'sun' 'sun' 'rain' 'sun' 'sun' 'sun' 'rain' 'rain' 'sun' 'rain'\n",
      " 'sun' 'sun' 'rain' 'sun' 'sun' 'sun' 'snow' 'sun' 'rain' 'sun' 'rain'\n",
      " 'rain' 'rain' 'rain' 'rain' 'snow' 'rain' 'sun' 'sun' 'sun' 'rain']\n"
     ]
    }
   ],
   "source": [
    "print(y_pred)"
   ]
  },
  {
   "cell_type": "code",
   "execution_count": 43,
   "id": "ab06a494",
   "metadata": {},
   "outputs": [
    {
     "data": {
      "text/plain": [
       "(array(['drizzle', 'rain', 'snow', 'sun'], dtype=object),\n",
       " array([  3, 208,  11, 290], dtype=int64))"
      ]
     },
     "execution_count": 43,
     "metadata": {},
     "output_type": "execute_result"
    }
   ],
   "source": [
    "np.unique(y_pred, return_counts=True)\n"
   ]
  },
  {
   "cell_type": "code",
   "execution_count": 44,
   "id": "1573f9c9",
   "metadata": {},
   "outputs": [],
   "source": [
    "from sklearn.metrics import accuracy_score"
   ]
  },
  {
   "cell_type": "code",
   "execution_count": 45,
   "id": "5f3fcc20",
   "metadata": {},
   "outputs": [
    {
     "name": "stdout",
     "output_type": "stream",
     "text": [
      "Accuracy: 0.841796875\n"
     ]
    }
   ],
   "source": [
    "#Checking the accuracy\n",
    "accuracy = accuracy_score(y_test, y_pred)\n",
    "print(f'Accuracy: {accuracy:}')\n"
   ]
  },
  {
   "cell_type": "code",
   "execution_count": 47,
   "id": "b853f3fc",
   "metadata": {},
   "outputs": [
    {
     "data": {
      "text/plain": [
       "[Text(0.5265151515151515, 0.9166666666666666, 'X[0] <= 0.15\\nentropy = 1.596\\nsamples = 949\\nvalue = [38, 64, 416, 17, 414]'),\n",
       " Text(0.2803030303030303, 0.75, 'X[2] <= 4.7\\nentropy = 1.157\\nsamples = 545\\nvalue = [38, 64, 29, 0, 414]'),\n",
       " Text(0.12121212121212122, 0.5833333333333334, 'X[3] <= -1.9\\nentropy = 0.934\\nsamples = 20\\nvalue = [7, 0, 0, 0, 13]'),\n",
       " Text(0.06060606060606061, 0.4166666666666667, 'X[3] <= -3.0\\nentropy = 0.391\\nsamples = 13\\nvalue = [1, 0, 0, 0, 12]'),\n",
       " Text(0.030303030303030304, 0.25, 'entropy = 0.0\\nsamples = 9\\nvalue = [0, 0, 0, 0, 9]'),\n",
       " Text(0.09090909090909091, 0.25, 'X[2] <= 3.05\\nentropy = 0.811\\nsamples = 4\\nvalue = [1, 0, 0, 0, 3]'),\n",
       " Text(0.06060606060606061, 0.08333333333333333, 'entropy = 0.0\\nsamples = 1\\nvalue = [1, 0, 0, 0, 0]'),\n",
       " Text(0.12121212121212122, 0.08333333333333333, 'entropy = 0.0\\nsamples = 3\\nvalue = [0, 0, 0, 0, 3]'),\n",
       " Text(0.18181818181818182, 0.4166666666666667, 'X[1] <= 2.3\\nentropy = 0.592\\nsamples = 7\\nvalue = [6, 0, 0, 0, 1]'),\n",
       " Text(0.15151515151515152, 0.25, 'entropy = 0.0\\nsamples = 6\\nvalue = [6, 0, 0, 0, 0]'),\n",
       " Text(0.21212121212121213, 0.25, 'entropy = 0.0\\nsamples = 1\\nvalue = [0, 0, 0, 0, 1]'),\n",
       " Text(0.4393939393939394, 0.5833333333333334, 'X[2] <= 19.15\\nentropy = 1.139\\nsamples = 525\\nvalue = [31, 64, 29, 0, 401]'),\n",
       " Text(0.3333333333333333, 0.4166666666666667, 'X[1] <= 5.25\\nentropy = 1.36\\nsamples = 237\\nvalue = [15, 37, 22, 0, 163]'),\n",
       " Text(0.2727272727272727, 0.25, 'X[3] <= -0.55\\nentropy = 1.383\\nsamples = 220\\nvalue = [15, 37, 19, 0, 149]'),\n",
       " Text(0.24242424242424243, 0.08333333333333333, 'entropy = 0.371\\nsamples = 14\\nvalue = [1, 0, 0, 0, 13]'),\n",
       " Text(0.30303030303030304, 0.08333333333333333, 'entropy = 1.421\\nsamples = 206\\nvalue = [14, 37, 19, 0, 136]'),\n",
       " Text(0.3939393939393939, 0.25, 'X[3] <= 4.15\\nentropy = 0.672\\nsamples = 17\\nvalue = [0, 0, 3, 0, 14]'),\n",
       " Text(0.36363636363636365, 0.08333333333333333, 'entropy = 0.954\\nsamples = 8\\nvalue = [0, 0, 3, 0, 5]'),\n",
       " Text(0.42424242424242425, 0.08333333333333333, 'entropy = 0.0\\nsamples = 9\\nvalue = [0, 0, 0, 0, 9]'),\n",
       " Text(0.5454545454545454, 0.4166666666666667, 'X[3] <= 16.4\\nentropy = 0.91\\nsamples = 288\\nvalue = [16, 27, 7, 0, 238]'),\n",
       " Text(0.5151515151515151, 0.25, 'X[1] <= 2.45\\nentropy = 0.966\\nsamples = 264\\nvalue = [16, 27, 7, 0, 214]'),\n",
       " Text(0.48484848484848486, 0.08333333333333333, 'entropy = 1.246\\nsamples = 87\\nvalue = [7, 15, 3, 0, 62]'),\n",
       " Text(0.5454545454545454, 0.08333333333333333, 'entropy = 0.794\\nsamples = 177\\nvalue = [9, 12, 4, 0, 152]'),\n",
       " Text(0.5757575757575758, 0.25, 'entropy = 0.0\\nsamples = 24\\nvalue = [0, 0, 0, 0, 24]'),\n",
       " Text(0.7727272727272727, 0.75, 'X[3] <= 0.85\\nentropy = 0.252\\nsamples = 404\\nvalue = [0, 0, 387, 17, 0]'),\n",
       " Text(0.696969696969697, 0.5833333333333334, 'X[0] <= 4.6\\nentropy = 0.934\\nsamples = 20\\nvalue = [0, 0, 7, 13, 0]'),\n",
       " Text(0.6666666666666666, 0.4166666666666667, 'X[2] <= 4.7\\nentropy = 0.881\\nsamples = 10\\nvalue = [0, 0, 7, 3, 0]'),\n",
       " Text(0.6363636363636364, 0.25, 'entropy = 0.0\\nsamples = 3\\nvalue = [0, 0, 0, 3, 0]'),\n",
       " Text(0.696969696969697, 0.25, 'entropy = 0.0\\nsamples = 7\\nvalue = [0, 0, 7, 0, 0]'),\n",
       " Text(0.7272727272727273, 0.4166666666666667, 'entropy = 0.0\\nsamples = 10\\nvalue = [0, 0, 0, 10, 0]'),\n",
       " Text(0.8484848484848485, 0.5833333333333334, 'X[3] <= 3.05\\nentropy = 0.084\\nsamples = 384\\nvalue = [0, 0, 380, 4, 0]'),\n",
       " Text(0.7878787878787878, 0.4166666666666667, 'X[0] <= 4.1\\nentropy = 0.422\\nsamples = 35\\nvalue = [0, 0, 32, 3, 0]'),\n",
       " Text(0.7575757575757576, 0.25, 'entropy = 0.0\\nsamples = 15\\nvalue = [0, 0, 15, 0, 0]'),\n",
       " Text(0.8181818181818182, 0.25, 'X[2] <= 5.85\\nentropy = 0.61\\nsamples = 20\\nvalue = [0, 0, 17, 3, 0]'),\n",
       " Text(0.7878787878787878, 0.08333333333333333, 'entropy = 0.0\\nsamples = 1\\nvalue = [0, 0, 0, 1, 0]'),\n",
       " Text(0.8484848484848485, 0.08333333333333333, 'entropy = 0.485\\nsamples = 19\\nvalue = [0, 0, 17, 2, 0]'),\n",
       " Text(0.9090909090909091, 0.4166666666666667, 'X[0] <= 23.5\\nentropy = 0.028\\nsamples = 349\\nvalue = [0, 0, 348, 1, 0]'),\n",
       " Text(0.8787878787878788, 0.25, 'entropy = 0.0\\nsamples = 327\\nvalue = [0, 0, 327, 0, 0]'),\n",
       " Text(0.9393939393939394, 0.25, 'X[0] <= 25.05\\nentropy = 0.267\\nsamples = 22\\nvalue = [0, 0, 21, 1, 0]'),\n",
       " Text(0.9090909090909091, 0.08333333333333333, 'entropy = 0.0\\nsamples = 1\\nvalue = [0, 0, 0, 1, 0]'),\n",
       " Text(0.9696969696969697, 0.08333333333333333, 'entropy = 0.0\\nsamples = 21\\nvalue = [0, 0, 21, 0, 0]')]"
      ]
     },
     "execution_count": 47,
     "metadata": {},
     "output_type": "execute_result"
    },
    {
     "data": {
      "image/png": "[encoded data removed]",
      "text/plain": [
       "<Figure size 432x288 with 1 Axes>"
      ]
     },
     "metadata": {
      "needs_background": "light"
     },
     "output_type": "display_data"
    }
   ],
   "source": [
    "#plotting the decision tree\n",
    "from sklearn import tree\n",
    "tree.plot_tree(model)"
   ]
  },
  {
   "cell_type": "code",
   "execution_count": 18,
   "id": "df92caaa",
   "metadata": {},
   "outputs": [],
   "source": [
    "#plotting the confusion matrix using seaborn and sklearn \n",
    "from sklearn.metrics import confusion_matrix"
   ]
  },
  {
   "cell_type": "code",
   "execution_count": 19,
   "id": "974c4660",
   "metadata": {},
   "outputs": [],
   "source": [
    "cm=confusion_matrix(y_test, y_pred)"
   ]
  },
  {
   "cell_type": "code",
   "execution_count": 20,
   "id": "94d190d9",
   "metadata": {},
   "outputs": [
    {
     "data": {
      "text/plain": [
       "array([[  1,   3,   0,   0,  11],\n",
       "       [  2,   8,   4,   0,  23],\n",
       "       [  0,   3, 203,   8,  11],\n",
       "       [  0,   0,   6,   3,   0],\n",
       "       [ 19,  32,   9,   0, 166]], dtype=int64)"
      ]
     },
     "execution_count": 20,
     "metadata": {},
     "output_type": "execute_result"
    }
   ],
   "source": [
    "cm"
   ]
  },
  {
   "cell_type": "code",
   "execution_count": 21,
   "id": "ac9585e5",
   "metadata": {},
   "outputs": [],
   "source": [
    "labels=['drizzle','fog','rain','snow','sun']"
   ]
  },
  {
   "cell_type": "code",
   "execution_count": 24,
   "id": "7040f509",
   "metadata": {},
   "outputs": [
    {
     "data": {
      "text/plain": [
       "<AxesSubplot:>"
      ]
     },
     "execution_count": 24,
     "metadata": {},
     "output_type": "execute_result"
    },
    {
     "data": {
      "image/png": "[encoded data removed]",
      "text/plain": [
       "<Figure size 432x288 with 2 Axes>"
      ]
     },
     "metadata": {
      "needs_background": "light"
     },
     "output_type": "display_data"
    }
   ],
   "source": [
    "sb.heatmap(cm,annot=True,xticklabels=labels,yticklabels=labels,cmap='YlGnBu')"
   ]
  }
 ],
 "metadata": {
  "kernelspec": {
   "display_name": "Python 3 (ipykernel)",
   "language": "python",
   "name": "python3"
  },
  "language_info": {
   "codemirror_mode": {
    "name": "ipython",
    "version": 3
   },
   "file_extension": ".py",
   "mimetype": "text/x-python",
   "name": "python",
   "nbconvert_exporter": "python",
   "pygments_lexer": "ipython3",
   "version": "3.9.12"
  }
 },
 "nbformat": 4,
 "nbformat_minor": 5
}

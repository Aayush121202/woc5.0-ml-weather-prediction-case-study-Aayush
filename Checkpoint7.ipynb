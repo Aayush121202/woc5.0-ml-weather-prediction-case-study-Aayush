{
 "cells": [
  {
   "cell_type": "code",
   "execution_count": 108,
   "id": "af4600b2",
   "metadata": {},
   "outputs": [],
   "source": [
    "import pandas as pd\n",
    "import numpy as np\n",
    "import matplotlib.pyplot as plt\n",
    "import seaborn as sb"
   ]
  },
  {
   "cell_type": "code",
   "execution_count": 109,
   "id": "f9748bc9",
   "metadata": {},
   "outputs": [],
   "source": [
    "file='C:/Users/patel/Downloads/weather.csv'\n"
   ]
  },
  {
   "cell_type": "code",
   "execution_count": 110,
   "id": "6fe57a10",
   "metadata": {},
   "outputs": [],
   "source": [
    "df=pd.read_csv(file, encoding ='ascii')"
   ]
  },
  {
   "cell_type": "code",
   "execution_count": 111,
   "id": "b5a61588",
   "metadata": {},
   "outputs": [
    {
     "data": {
      "text/html": [
       "<div>\n",
       "<style scoped>\n",
       "    .dataframe tbody tr th:only-of-type {\n",
       "        vertical-align: middle;\n",
       "    }\n",
       "\n",
       "    .dataframe tbody tr th {\n",
       "        vertical-align: top;\n",
       "    }\n",
       "\n",
       "    .dataframe thead th {\n",
       "        text-align: right;\n",
       "    }\n",
       "</style>\n",
       "<table border=\"1\" class=\"dataframe\">\n",
       "  <thead>\n",
       "    <tr style=\"text-align: right;\">\n",
       "      <th></th>\n",
       "      <th>precipitation</th>\n",
       "      <th>temp_max</th>\n",
       "      <th>temp_min</th>\n",
       "      <th>wind</th>\n",
       "      <th>weather</th>\n",
       "    </tr>\n",
       "  </thead>\n",
       "  <tbody>\n",
       "    <tr>\n",
       "      <th>0</th>\n",
       "      <td>0.0</td>\n",
       "      <td>12.8</td>\n",
       "      <td>5.0</td>\n",
       "      <td>4.7</td>\n",
       "      <td>drizzle</td>\n",
       "    </tr>\n",
       "    <tr>\n",
       "      <th>1</th>\n",
       "      <td>10.9</td>\n",
       "      <td>10.6</td>\n",
       "      <td>2.8</td>\n",
       "      <td>4.5</td>\n",
       "      <td>rain</td>\n",
       "    </tr>\n",
       "    <tr>\n",
       "      <th>2</th>\n",
       "      <td>0.8</td>\n",
       "      <td>11.7</td>\n",
       "      <td>7.2</td>\n",
       "      <td>2.3</td>\n",
       "      <td>rain</td>\n",
       "    </tr>\n",
       "    <tr>\n",
       "      <th>3</th>\n",
       "      <td>20.3</td>\n",
       "      <td>12.2</td>\n",
       "      <td>5.6</td>\n",
       "      <td>4.7</td>\n",
       "      <td>rain</td>\n",
       "    </tr>\n",
       "    <tr>\n",
       "      <th>4</th>\n",
       "      <td>1.3</td>\n",
       "      <td>8.9</td>\n",
       "      <td>2.8</td>\n",
       "      <td>6.1</td>\n",
       "      <td>rain</td>\n",
       "    </tr>\n",
       "  </tbody>\n",
       "</table>\n",
       "</div>"
      ],
      "text/plain": [
       "   precipitation  temp_max  temp_min  wind  weather\n",
       "0            0.0      12.8       5.0   4.7  drizzle\n",
       "1           10.9      10.6       2.8   4.5     rain\n",
       "2            0.8      11.7       7.2   2.3     rain\n",
       "3           20.3      12.2       5.6   4.7     rain\n",
       "4            1.3       8.9       2.8   6.1     rain"
      ]
     },
     "execution_count": 111,
     "metadata": {},
     "output_type": "execute_result"
    }
   ],
   "source": [
    "df.head()"
   ]
  },
  {
   "cell_type": "code",
   "execution_count": 112,
   "id": "6480d2ba",
   "metadata": {},
   "outputs": [],
   "source": [
    "from sklearn.model_selection import train_test_split"
   ]
  },
  {
   "cell_type": "code",
   "execution_count": 113,
   "id": "cf4ecedd",
   "metadata": {},
   "outputs": [],
   "source": [
    "X=df.iloc[:,:4].values\n",
    "y=df.iloc[:,4].values\n"
   ]
  },
  {
   "cell_type": "code",
   "execution_count": 114,
   "id": "9bdf173b",
   "metadata": {},
   "outputs": [],
   "source": [
    "#performing test train split\n",
    "X_train, X_test, y_train, y_test = train_test_split(X, y, test_size=0.2, random_state=42)"
   ]
  },
  {
   "cell_type": "code",
   "execution_count": 115,
   "id": "39162124",
   "metadata": {},
   "outputs": [
    {
     "name": "stdout",
     "output_type": "stream",
     "text": [
      "X_train dimension=  (1168, 4)\n",
      "X_test dimension=  (293, 4)\n",
      "y_train dimension=  (1168,)\n",
      "y_train dimension=  (293,)\n"
     ]
    }
   ],
   "source": [
    "print('X_train dimension= ', X_train.shape)\n",
    "print('X_test dimension= ', X_test.shape)\n",
    "print('y_train dimension= ', y_train.shape)\n",
    "print('y_train dimension= ', y_test.shape)"
   ]
  },
  {
   "cell_type": "code",
   "execution_count": 116,
   "id": "4b38bd2b",
   "metadata": {},
   "outputs": [],
   "source": [
    "from sklearn.neighbors import KNeighborsClassifier"
   ]
  },
  {
   "cell_type": "code",
   "execution_count": 127,
   "id": "572625a6",
   "metadata": {},
   "outputs": [],
   "source": [
    "#predicting for k=3\n",
    "neigh = KNeighborsClassifier(n_neighbors = 3,).fit(X_train,y_train)"
   ]
  },
  {
   "cell_type": "code",
   "execution_count": 128,
   "id": "1f3cd8c0",
   "metadata": {},
   "outputs": [],
   "source": [
    "Pred_y = neigh.predict(X_test)"
   ]
  },
  {
   "cell_type": "code",
   "execution_count": 129,
   "id": "172c6b52",
   "metadata": {},
   "outputs": [],
   "source": [
    "from sklearn import metrics"
   ]
  },
  {
   "cell_type": "code",
   "execution_count": 130,
   "id": "a2453a8c",
   "metadata": {},
   "outputs": [
    {
     "data": {
      "text/plain": [
       "0.7713310580204779"
      ]
     },
     "execution_count": 130,
     "metadata": {},
     "output_type": "execute_result"
    }
   ],
   "source": [
    "metrics.accuracy_score(y_test, Pred_y)"
   ]
  },
  {
   "cell_type": "code",
   "execution_count": 131,
   "id": "d321ca2c",
   "metadata": {},
   "outputs": [],
   "source": [
    "#repeat for k=5"
   ]
  },
  {
   "cell_type": "code",
   "execution_count": 132,
   "id": "6755c385",
   "metadata": {},
   "outputs": [],
   "source": [
    "neigh = KNeighborsClassifier(n_neighbors = 5).fit(X_train,y_train)"
   ]
  },
  {
   "cell_type": "code",
   "execution_count": 133,
   "id": "868f45dc",
   "metadata": {},
   "outputs": [],
   "source": [
    "Pred_y = neigh.predict(X_test)"
   ]
  },
  {
   "cell_type": "code",
   "execution_count": 134,
   "id": "f28c91f1",
   "metadata": {},
   "outputs": [
    {
     "data": {
      "text/plain": [
       "0.7815699658703071"
      ]
     },
     "execution_count": 134,
     "metadata": {},
     "output_type": "execute_result"
    }
   ],
   "source": [
    "metrics.accuracy_score(y_test, Pred_y)"
   ]
  },
  {
   "cell_type": "code",
   "execution_count": null,
   "id": "5d042df7",
   "metadata": {},
   "outputs": [],
   "source": [
    "#TAKING weights='distance'"
   ]
  },
  {
   "cell_type": "code",
   "execution_count": 146,
   "id": "1b9ae5af",
   "metadata": {},
   "outputs": [
    {
     "name": "stdout",
     "output_type": "stream",
     "text": [
      "[0.726962457337884, 0.7201365187713311, 0.7508532423208191, 0.7679180887372014, 0.7781569965870307, 0.78839590443686, 0.7815699658703071, 0.7713310580204779, 0.7781569965870307, 0.7781569965870307, 0.7747440273037542, 0.7713310580204779, 0.7542662116040956, 0.7610921501706485, 0.7508532423208191, 0.7542662116040956, 0.7508532423208191, 0.7474402730375427, 0.7508532423208191, 0.7406143344709898, 0.7508532423208191, 0.7474402730375427, 0.7474402730375427, 0.7474402730375427, 0.7474402730375427]\n"
     ]
    }
   ],
   "source": [
    "# try K=1 through K=25 and record testing accuracy\n",
    "k_range = range(1, 26)\n",
    "\n",
    "# We can create Python dictionary using [] or dict()\n",
    "scores = []\n",
    "\n",
    "# We use a loop through the range 1 to 26\n",
    "# We append the scores in the dictionary\n",
    "for k in k_range:\n",
    "    neigh = KNeighborsClassifier(n_neighbors=k,weights='distance')\n",
    "    neigh.fit(X_train, y_train)\n",
    "    y_pred = neigh.predict(X_test)\n",
    "    scores.append(metrics.accuracy_score(y_test, y_pred))\n",
    "\n",
    "print(scores)"
   ]
  },
  {
   "cell_type": "code",
   "execution_count": 147,
   "id": "0c4ad7f2",
   "metadata": {},
   "outputs": [
    {
     "data": {
      "text/plain": [
       "Text(0, 0.5, 'Testing Accuracy')"
      ]
     },
     "execution_count": 147,
     "metadata": {},
     "output_type": "execute_result"
    },
    {
     "data": {
      "image/png": "[encoded data removed]",
      "text/plain": [
       "<Figure size 432x288 with 1 Axes>"
      ]
     },
     "metadata": {
      "needs_background": "light"
     },
     "output_type": "display_data"
    }
   ],
   "source": [
    "#plotting error graph\n",
    "%matplotlib inline\n",
    "plt.plot(k_range, scores)\n",
    "plt.xlabel('Value of K for KNN')\n",
    "plt.ylabel('Testing Accuracy')"
   ]
  },
  {
   "cell_type": "code",
   "execution_count": 148,
   "id": "4ee13e22",
   "metadata": {},
   "outputs": [
    {
     "data": {
      "text/plain": [
       "0.78839590443686"
      ]
     },
     "execution_count": 148,
     "metadata": {},
     "output_type": "execute_result"
    }
   ],
   "source": [
    "max(scores)\n",
    "\n"
   ]
  },
  {
   "cell_type": "code",
   "execution_count": null,
   "id": "cbe859d2",
   "metadata": {},
   "outputs": [],
   "source": [
    "# MAX ACCURACY FOR k=6"
   ]
  },
  {
   "cell_type": "code",
   "execution_count": 145,
   "id": "731dfc92",
   "metadata": {},
   "outputs": [],
   "source": [
    "#TAKING weights='uniform'"
   ]
  },
  {
   "cell_type": "code",
   "execution_count": 149,
   "id": "77b71590",
   "metadata": {},
   "outputs": [
    {
     "name": "stdout",
     "output_type": "stream",
     "text": [
      "[0.726962457337884, 0.6860068259385665, 0.7713310580204779, 0.764505119453925, 0.7815699658703071, 0.7781569965870307, 0.7918088737201365, 0.7747440273037542, 0.7679180887372014, 0.7747440273037542, 0.757679180887372, 0.7610921501706485, 0.7610921501706485, 0.7542662116040956, 0.7508532423208191, 0.7508532423208191, 0.7474402730375427, 0.7440273037542662, 0.7406143344709898, 0.7508532423208191, 0.7508532423208191, 0.7508532423208191, 0.7440273037542662, 0.7508532423208191, 0.7440273037542662]\n"
     ]
    }
   ],
   "source": [
    "# try K=1 through K=25 and record testing accuracy\n",
    "k_range = range(1, 26)\n",
    "\n",
    "# We can create Python dictionary using [] or dict()\n",
    "scores = []\n",
    "\n",
    "# We use a loop through the range 1 to 26\n",
    "# We append the scores in the dictionary\n",
    "for k in k_range:\n",
    "    neigh = KNeighborsClassifier(n_neighbors=k,weights='uniform')\n",
    "    neigh.fit(X_train, y_train)\n",
    "    y_pred = neigh.predict(X_test)\n",
    "    scores.append(metrics.accuracy_score(y_test, y_pred))\n",
    "\n",
    "print(scores)"
   ]
  },
  {
   "cell_type": "code",
   "execution_count": 151,
   "id": "1f985034",
   "metadata": {},
   "outputs": [
    {
     "data": {
      "text/plain": [
       "Text(0, 0.5, 'Testing Accuracy')"
      ]
     },
     "execution_count": 151,
     "metadata": {},
     "output_type": "execute_result"
    },
    {
     "data": {
      "image/png": "[encoded data removed]",
      "text/plain": [
       "<Figure size 432x288 with 1 Axes>"
      ]
     },
     "metadata": {
      "needs_background": "light"
     },
     "output_type": "display_data"
    }
   ],
   "source": [
    "plt.plot(k_range, scores)\n",
    "plt.xlabel('Value of K for KNN')\n",
    "plt.ylabel('Testing Accuracy')"
   ]
  },
  {
   "cell_type": "code",
   "execution_count": 152,
   "id": "aeee811c",
   "metadata": {},
   "outputs": [
    {
     "data": {
      "text/plain": [
       "0.7918088737201365"
      ]
     },
     "execution_count": 152,
     "metadata": {},
     "output_type": "execute_result"
    }
   ],
   "source": [
    "max(scores)"
   ]
  },
  {
   "cell_type": "code",
   "execution_count": 153,
   "id": "b00587ea",
   "metadata": {},
   "outputs": [],
   "source": [
    "# MAX ACCURACY FOR k=7"
   ]
  },
  {
   "cell_type": "code",
   "execution_count": 154,
   "id": "7d1013b9",
   "metadata": {},
   "outputs": [],
   "source": [
    "# HENCE, we will select model with weights='uniform' and k=7"
   ]
  },
  {
   "cell_type": "code",
   "execution_count": 156,
   "id": "d07d35cd",
   "metadata": {},
   "outputs": [],
   "source": [
    "neigh = KNeighborsClassifier(n_neighbors = 7, weights='uniform').fit(X_train,y_train)"
   ]
  },
  {
   "cell_type": "code",
   "execution_count": 157,
   "id": "f2cae1b2",
   "metadata": {},
   "outputs": [],
   "source": [
    "Pred_y = neigh.predict(X_test)"
   ]
  },
  {
   "cell_type": "code",
   "execution_count": 158,
   "id": "47a41dad",
   "metadata": {},
   "outputs": [
    {
     "data": {
      "text/plain": [
       "0.7918088737201365"
      ]
     },
     "execution_count": 158,
     "metadata": {},
     "output_type": "execute_result"
    }
   ],
   "source": [
    "metrics.accuracy_score(y_test, Pred_y)"
   ]
  },
  {
   "cell_type": "code",
   "execution_count": 159,
   "id": "63faea05",
   "metadata": {},
   "outputs": [],
   "source": [
    "#plotting the confusion matrix using seaborn and sklearn \n",
    "from sklearn.metrics import confusion_matrix"
   ]
  },
  {
   "cell_type": "code",
   "execution_count": 160,
   "id": "8f8b0351",
   "metadata": {},
   "outputs": [
    {
     "data": {
      "text/plain": [
       "array([[  0,   0,   0,   0,   9],\n",
       "       [  0,   0,   5,   0,  20],\n",
       "       [  0,   0,  98,   0,  22],\n",
       "       [  0,   0,   5,   0,   3],\n",
       "       [  0,   0,  11,   0, 120]], dtype=int64)"
      ]
     },
     "execution_count": 160,
     "metadata": {},
     "output_type": "execute_result"
    }
   ],
   "source": [
    "cm=confusion_matrix(y_test, y_pred)\n",
    "cm"
   ]
  },
  {
   "cell_type": "code",
   "execution_count": 161,
   "id": "0aefc67c",
   "metadata": {},
   "outputs": [],
   "source": [
    "labels=['drizzle','fog','rain','snow','sun']"
   ]
  },
  {
   "cell_type": "code",
   "execution_count": 162,
   "id": "052d99fa",
   "metadata": {},
   "outputs": [
    {
     "data": {
      "text/plain": [
       "<AxesSubplot:>"
      ]
     },
     "execution_count": 162,
     "metadata": {},
     "output_type": "execute_result"
    },
    {
     "data": {
      "image/png": "[encoded data removed]",
      "text/plain": [
       "<Figure size 432x288 with 2 Axes>"
      ]
     },
     "metadata": {
      "needs_background": "light"
     },
     "output_type": "display_data"
    }
   ],
   "source": [
    "sb.heatmap(cm,annot=True,xticklabels=labels,yticklabels=labels,cmap='YlGnBu')"
   ]
  }
 ],
 "metadata": {
  "kernelspec": {
   "display_name": "Python 3 (ipykernel)",
   "language": "python",
   "name": "python3"
  },
  "language_info": {
   "codemirror_mode": {
    "name": "ipython",
    "version": 3
   },
   "file_extension": ".py",
   "mimetype": "text/x-python",
   "name": "python",
   "nbconvert_exporter": "python",
   "pygments_lexer": "ipython3",
   "version": "3.9.12"
  }
 },
 "nbformat": 4,
 "nbformat_minor": 5
}

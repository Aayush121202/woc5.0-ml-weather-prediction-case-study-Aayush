{
 "cells": [
  {
   "cell_type": "code",
   "execution_count": 7,
   "id": "770a2a04",
   "metadata": {},
   "outputs": [],
   "source": [
    "import pandas as pd\n",
    "import numpy as np\n",
    "import matplotlib.pyplot as plt\n",
    "import seaborn as sb\n",
    "import tensorflow as tf"
   ]
  },
  {
   "cell_type": "code",
   "execution_count": 8,
   "id": "c437e691",
   "metadata": {},
   "outputs": [],
   "source": [
    "file='C:/Users/patel/Downloads/weather.csv'\n"
   ]
  },
  {
   "cell_type": "code",
   "execution_count": 9,
   "id": "94442d7a",
   "metadata": {},
   "outputs": [],
   "source": [
    "df=pd.read_csv(file, encoding ='ascii')"
   ]
  },
  {
   "cell_type": "code",
   "execution_count": 10,
   "id": "d071bc9b",
   "metadata": {},
   "outputs": [
    {
     "data": {
      "text/html": [
       "<div>\n",
       "<style scoped>\n",
       "    .dataframe tbody tr th:only-of-type {\n",
       "        vertical-align: middle;\n",
       "    }\n",
       "\n",
       "    .dataframe tbody tr th {\n",
       "        vertical-align: top;\n",
       "    }\n",
       "\n",
       "    .dataframe thead th {\n",
       "        text-align: right;\n",
       "    }\n",
       "</style>\n",
       "<table border=\"1\" class=\"dataframe\">\n",
       "  <thead>\n",
       "    <tr style=\"text-align: right;\">\n",
       "      <th></th>\n",
       "      <th>precipitation</th>\n",
       "      <th>temp_max</th>\n",
       "      <th>temp_min</th>\n",
       "      <th>wind</th>\n",
       "      <th>weather</th>\n",
       "    </tr>\n",
       "  </thead>\n",
       "  <tbody>\n",
       "    <tr>\n",
       "      <th>0</th>\n",
       "      <td>0.0</td>\n",
       "      <td>12.8</td>\n",
       "      <td>5.0</td>\n",
       "      <td>4.7</td>\n",
       "      <td>drizzle</td>\n",
       "    </tr>\n",
       "    <tr>\n",
       "      <th>1</th>\n",
       "      <td>10.9</td>\n",
       "      <td>10.6</td>\n",
       "      <td>2.8</td>\n",
       "      <td>4.5</td>\n",
       "      <td>rain</td>\n",
       "    </tr>\n",
       "    <tr>\n",
       "      <th>2</th>\n",
       "      <td>0.8</td>\n",
       "      <td>11.7</td>\n",
       "      <td>7.2</td>\n",
       "      <td>2.3</td>\n",
       "      <td>rain</td>\n",
       "    </tr>\n",
       "    <tr>\n",
       "      <th>3</th>\n",
       "      <td>20.3</td>\n",
       "      <td>12.2</td>\n",
       "      <td>5.6</td>\n",
       "      <td>4.7</td>\n",
       "      <td>rain</td>\n",
       "    </tr>\n",
       "    <tr>\n",
       "      <th>4</th>\n",
       "      <td>1.3</td>\n",
       "      <td>8.9</td>\n",
       "      <td>2.8</td>\n",
       "      <td>6.1</td>\n",
       "      <td>rain</td>\n",
       "    </tr>\n",
       "  </tbody>\n",
       "</table>\n",
       "</div>"
      ],
      "text/plain": [
       "   precipitation  temp_max  temp_min  wind  weather\n",
       "0            0.0      12.8       5.0   4.7  drizzle\n",
       "1           10.9      10.6       2.8   4.5     rain\n",
       "2            0.8      11.7       7.2   2.3     rain\n",
       "3           20.3      12.2       5.6   4.7     rain\n",
       "4            1.3       8.9       2.8   6.1     rain"
      ]
     },
     "execution_count": 10,
     "metadata": {},
     "output_type": "execute_result"
    }
   ],
   "source": [
    "df.head()"
   ]
  },
  {
   "cell_type": "code",
   "execution_count": 69,
   "id": "476d895d",
   "metadata": {},
   "outputs": [],
   "source": [
    "df.weather.replace(['drizzle','rain','sun','snow','fog'],[0,1,2,3,4],inplace=True)"
   ]
  },
  {
   "cell_type": "code",
   "execution_count": 70,
   "id": "8d70a120",
   "metadata": {},
   "outputs": [],
   "source": [
    "X=df.iloc[:,:4].values\n",
    "y=df.iloc[:,4].values\n"
   ]
  },
  {
   "cell_type": "code",
   "execution_count": 71,
   "id": "ff080664",
   "metadata": {},
   "outputs": [],
   "source": [
    "from sklearn.model_selection import train_test_split"
   ]
  },
  {
   "cell_type": "code",
   "execution_count": 72,
   "id": "5b3fbf71",
   "metadata": {},
   "outputs": [],
   "source": [
    "#performing test train split\n",
    "X_train, X_test, y_train, y_test = train_test_split(X, y, test_size=0.2, random_state=42)"
   ]
  },
  {
   "cell_type": "code",
   "execution_count": 73,
   "id": "79d20e49",
   "metadata": {},
   "outputs": [
    {
     "name": "stdout",
     "output_type": "stream",
     "text": [
      "X_train dimension=  (1168, 4)\n",
      "X_test dimension=  (293, 4)\n",
      "y_train dimension=  (1168,)\n",
      "y_train dimension=  (293,)\n"
     ]
    }
   ],
   "source": [
    "print('X_train dimension= ', X_train.shape)\n",
    "print('X_test dimension= ', X_test.shape)\n",
    "print('y_train dimension= ', y_train.shape)\n",
    "print('y_train dimension= ', y_test.shape)"
   ]
  },
  {
   "cell_type": "code",
   "execution_count": 109,
   "id": "e04c13ba",
   "metadata": {},
   "outputs": [],
   "source": [
    "from tensorflow.keras.models import Sequential\n",
    "from tensorflow.keras.layers import Dense"
   ]
  },
  {
   "cell_type": "markdown",
   "id": "08312b41",
   "metadata": {},
   "source": [
    "# first model- basic softmax implementation without Adam Optimization"
   ]
  },
  {
   "cell_type": "code",
   "execution_count": 121,
   "id": "8da66d9c",
   "metadata": {},
   "outputs": [],
   "source": [
    "model=Sequential([\n",
    "    Dense(units=100,input_shape=(4,),activation='relu'),\n",
    "    Dense(units=75,activation='relu'),\n",
    "    Dense(units=50,activation='relu'),\n",
    "    Dense(units=25,activation='relu'),\n",
    "    Dense(units=5, activation='softmax')\n",
    "])"
   ]
  },
  {
   "cell_type": "code",
   "execution_count": 122,
   "id": "f6e07dda",
   "metadata": {},
   "outputs": [
    {
     "name": "stdout",
     "output_type": "stream",
     "text": [
      "Model: \"sequential_13\"\n",
      "_________________________________________________________________\n",
      " Layer (type)                Output Shape              Param #   \n",
      "=================================================================\n",
      " dense_61 (Dense)            (None, 100)               500       \n",
      "                                                                 \n",
      " dense_62 (Dense)            (None, 75)                7575      \n",
      "                                                                 \n",
      " dense_63 (Dense)            (None, 50)                3800      \n",
      "                                                                 \n",
      " dense_64 (Dense)            (None, 25)                1275      \n",
      "                                                                 \n",
      " dense_65 (Dense)            (None, 5)                 130       \n",
      "                                                                 \n",
      "=================================================================\n",
      "Total params: 13,280\n",
      "Trainable params: 13,280\n",
      "Non-trainable params: 0\n",
      "_________________________________________________________________\n"
     ]
    }
   ],
   "source": [
    "model.summary()"
   ]
  },
  {
   "cell_type": "code",
   "execution_count": 123,
   "id": "982a5dfb",
   "metadata": {},
   "outputs": [],
   "source": [
    "from tensorflow.keras.losses import SparseCategoricalCrossentropy"
   ]
  },
  {
   "cell_type": "code",
   "execution_count": 149,
   "id": "e1cc91fc",
   "metadata": {},
   "outputs": [],
   "source": [
    "model.compile(loss=tf.keras.losses.SparseCategoricalCrossentropy(),metrics=['accuracy'])"
   ]
  },
  {
   "cell_type": "code",
   "execution_count": 150,
   "id": "e604a476",
   "metadata": {},
   "outputs": [
    {
     "name": "stdout",
     "output_type": "stream",
     "text": [
      "Epoch 1/100\n",
      "37/37 [==============================] - 1s 1ms/step - loss: 0.2415 - accuracy: 0.9110\n",
      "Epoch 2/100\n",
      "37/37 [==============================] - 0s 1ms/step - loss: 0.2109 - accuracy: 0.9264\n",
      "Epoch 3/100\n",
      "37/37 [==============================] - 0s 2ms/step - loss: 0.2189 - accuracy: 0.9229\n",
      "Epoch 4/100\n",
      "37/37 [==============================] - 0s 2ms/step - loss: 0.2128 - accuracy: 0.9247\n",
      "Epoch 5/100\n",
      "37/37 [==============================] - 0s 1ms/step - loss: 0.2137 - accuracy: 0.9264\n",
      "Epoch 6/100\n",
      "37/37 [==============================] - 0s 2ms/step - loss: 0.2105 - accuracy: 0.9229\n",
      "Epoch 7/100\n",
      "37/37 [==============================] - 0s 2ms/step - loss: 0.2217 - accuracy: 0.9247\n",
      "Epoch 8/100\n",
      "37/37 [==============================] - 0s 2ms/step - loss: 0.2070 - accuracy: 0.9298\n",
      "Epoch 9/100\n",
      "37/37 [==============================] - 0s 2ms/step - loss: 0.2073 - accuracy: 0.9272\n",
      "Epoch 10/100\n",
      "37/37 [==============================] - 0s 2ms/step - loss: 0.2078 - accuracy: 0.9247\n",
      "Epoch 11/100\n",
      "37/37 [==============================] - 0s 2ms/step - loss: 0.2169 - accuracy: 0.9255\n",
      "Epoch 12/100\n",
      "37/37 [==============================] - 0s 2ms/step - loss: 0.2140 - accuracy: 0.9229\n",
      "Epoch 13/100\n",
      "37/37 [==============================] - 0s 1ms/step - loss: 0.2078 - accuracy: 0.9255\n",
      "Epoch 14/100\n",
      "37/37 [==============================] - 0s 2ms/step - loss: 0.2029 - accuracy: 0.9272\n",
      "Epoch 15/100\n",
      "37/37 [==============================] - 0s 2ms/step - loss: 0.2157 - accuracy: 0.9187\n",
      "Epoch 16/100\n",
      "37/37 [==============================] - 0s 2ms/step - loss: 0.2112 - accuracy: 0.9264\n",
      "Epoch 17/100\n",
      "37/37 [==============================] - 0s 2ms/step - loss: 0.2048 - accuracy: 0.9281\n",
      "Epoch 18/100\n",
      "37/37 [==============================] - 0s 2ms/step - loss: 0.2055 - accuracy: 0.9255\n",
      "Epoch 19/100\n",
      "37/37 [==============================] - 0s 2ms/step - loss: 0.2133 - accuracy: 0.9178\n",
      "Epoch 20/100\n",
      "37/37 [==============================] - 0s 2ms/step - loss: 0.2125 - accuracy: 0.9255\n",
      "Epoch 21/100\n",
      "37/37 [==============================] - 0s 2ms/step - loss: 0.2185 - accuracy: 0.9204\n",
      "Epoch 22/100\n",
      "37/37 [==============================] - 0s 2ms/step - loss: 0.2079 - accuracy: 0.9255\n",
      "Epoch 23/100\n",
      "37/37 [==============================] - 0s 2ms/step - loss: 0.2073 - accuracy: 0.9238\n",
      "Epoch 24/100\n",
      "37/37 [==============================] - 0s 2ms/step - loss: 0.2071 - accuracy: 0.9281\n",
      "Epoch 25/100\n",
      "37/37 [==============================] - 0s 2ms/step - loss: 0.2101 - accuracy: 0.9255\n",
      "Epoch 26/100\n",
      "37/37 [==============================] - 0s 2ms/step - loss: 0.2128 - accuracy: 0.9247\n",
      "Epoch 27/100\n",
      "37/37 [==============================] - 0s 1ms/step - loss: 0.2024 - accuracy: 0.9298\n",
      "Epoch 28/100\n",
      "37/37 [==============================] - 0s 1ms/step - loss: 0.2076 - accuracy: 0.9315\n",
      "Epoch 29/100\n",
      "37/37 [==============================] - 0s 2ms/step - loss: 0.1968 - accuracy: 0.9332\n",
      "Epoch 30/100\n",
      "37/37 [==============================] - 0s 1ms/step - loss: 0.2074 - accuracy: 0.9255\n",
      "Epoch 31/100\n",
      "37/37 [==============================] - 0s 2ms/step - loss: 0.2070 - accuracy: 0.9264\n",
      "Epoch 32/100\n",
      "37/37 [==============================] - 0s 2ms/step - loss: 0.2005 - accuracy: 0.9341\n",
      "Epoch 33/100\n",
      "37/37 [==============================] - 0s 1ms/step - loss: 0.2011 - accuracy: 0.9255\n",
      "Epoch 34/100\n",
      "37/37 [==============================] - 0s 2ms/step - loss: 0.2064 - accuracy: 0.9255\n",
      "Epoch 35/100\n",
      "37/37 [==============================] - 0s 2ms/step - loss: 0.2124 - accuracy: 0.9212\n",
      "Epoch 36/100\n",
      "37/37 [==============================] - 0s 1ms/step - loss: 0.2060 - accuracy: 0.9255\n",
      "Epoch 37/100\n",
      "37/37 [==============================] - 0s 1ms/step - loss: 0.1973 - accuracy: 0.9272\n",
      "Epoch 38/100\n",
      "37/37 [==============================] - 0s 1ms/step - loss: 0.2120 - accuracy: 0.9238\n",
      "Epoch 39/100\n",
      "37/37 [==============================] - 0s 2ms/step - loss: 0.2024 - accuracy: 0.9238\n",
      "Epoch 40/100\n",
      "37/37 [==============================] - 0s 2ms/step - loss: 0.2070 - accuracy: 0.9264\n",
      "Epoch 41/100\n",
      "37/37 [==============================] - 0s 2ms/step - loss: 0.2050 - accuracy: 0.9255\n",
      "Epoch 42/100\n",
      "37/37 [==============================] - 0s 2ms/step - loss: 0.2000 - accuracy: 0.9307\n",
      "Epoch 43/100\n",
      "37/37 [==============================] - 0s 2ms/step - loss: 0.2094 - accuracy: 0.9238\n",
      "Epoch 44/100\n",
      "37/37 [==============================] - 0s 1ms/step - loss: 0.2049 - accuracy: 0.9264\n",
      "Epoch 45/100\n",
      "37/37 [==============================] - 0s 2ms/step - loss: 0.1990 - accuracy: 0.9307\n",
      "Epoch 46/100\n",
      "37/37 [==============================] - 0s 2ms/step - loss: 0.2051 - accuracy: 0.9281\n",
      "Epoch 47/100\n",
      "37/37 [==============================] - 0s 1ms/step - loss: 0.2055 - accuracy: 0.9298\n",
      "Epoch 48/100\n",
      "37/37 [==============================] - 0s 2ms/step - loss: 0.1935 - accuracy: 0.9281\n",
      "Epoch 49/100\n",
      "37/37 [==============================] - 0s 1ms/step - loss: 0.1886 - accuracy: 0.9298\n",
      "Epoch 50/100\n",
      "37/37 [==============================] - 0s 2ms/step - loss: 0.2097 - accuracy: 0.9281\n",
      "Epoch 51/100\n",
      "37/37 [==============================] - 0s 1ms/step - loss: 0.1995 - accuracy: 0.9264\n",
      "Epoch 52/100\n",
      "37/37 [==============================] - 0s 2ms/step - loss: 0.1932 - accuracy: 0.9358\n",
      "Epoch 53/100\n",
      "37/37 [==============================] - 0s 1ms/step - loss: 0.1972 - accuracy: 0.9341\n",
      "Epoch 54/100\n",
      "37/37 [==============================] - 0s 2ms/step - loss: 0.2061 - accuracy: 0.9272\n",
      "Epoch 55/100\n",
      "37/37 [==============================] - 0s 1ms/step - loss: 0.1971 - accuracy: 0.9298\n",
      "Epoch 56/100\n",
      "37/37 [==============================] - 0s 1ms/step - loss: 0.1965 - accuracy: 0.9264\n",
      "Epoch 57/100\n",
      "37/37 [==============================] - 0s 2ms/step - loss: 0.2044 - accuracy: 0.9332\n",
      "Epoch 58/100\n",
      "37/37 [==============================] - 0s 1ms/step - loss: 0.2010 - accuracy: 0.9264\n",
      "Epoch 59/100\n",
      "37/37 [==============================] - 0s 1ms/step - loss: 0.1984 - accuracy: 0.9229\n",
      "Epoch 60/100\n",
      "37/37 [==============================] - 0s 2ms/step - loss: 0.1941 - accuracy: 0.9315\n",
      "Epoch 61/100\n",
      "37/37 [==============================] - 0s 1ms/step - loss: 0.1998 - accuracy: 0.9264\n",
      "Epoch 62/100\n",
      "37/37 [==============================] - 0s 1ms/step - loss: 0.1908 - accuracy: 0.9358\n",
      "Epoch 63/100\n",
      "37/37 [==============================] - 0s 2ms/step - loss: 0.2074 - accuracy: 0.9281\n",
      "Epoch 64/100\n",
      "37/37 [==============================] - 0s 2ms/step - loss: 0.1976 - accuracy: 0.9289\n",
      "Epoch 65/100\n",
      "37/37 [==============================] - 0s 2ms/step - loss: 0.2025 - accuracy: 0.9255\n",
      "Epoch 66/100\n",
      "37/37 [==============================] - 0s 2ms/step - loss: 0.1974 - accuracy: 0.9315\n",
      "Epoch 67/100\n",
      "37/37 [==============================] - 0s 2ms/step - loss: 0.1918 - accuracy: 0.9324\n",
      "Epoch 68/100\n",
      "37/37 [==============================] - 0s 2ms/step - loss: 0.2020 - accuracy: 0.9315\n",
      "Epoch 69/100\n",
      "37/37 [==============================] - 0s 2ms/step - loss: 0.1964 - accuracy: 0.9315\n",
      "Epoch 70/100\n",
      "37/37 [==============================] - 0s 2ms/step - loss: 0.1897 - accuracy: 0.9332\n",
      "Epoch 71/100\n",
      "37/37 [==============================] - 0s 2ms/step - loss: 0.1977 - accuracy: 0.9247\n",
      "Epoch 72/100\n",
      "37/37 [==============================] - 0s 1ms/step - loss: 0.2024 - accuracy: 0.9281\n",
      "Epoch 73/100\n",
      "37/37 [==============================] - 0s 1ms/step - loss: 0.1964 - accuracy: 0.9272\n",
      "Epoch 74/100\n",
      "37/37 [==============================] - 0s 1ms/step - loss: 0.1942 - accuracy: 0.9281\n",
      "Epoch 75/100\n",
      "37/37 [==============================] - 0s 1ms/step - loss: 0.1919 - accuracy: 0.9366\n",
      "Epoch 76/100\n",
      "37/37 [==============================] - 0s 1ms/step - loss: 0.2010 - accuracy: 0.9289\n",
      "Epoch 77/100\n",
      "37/37 [==============================] - 0s 2ms/step - loss: 0.1906 - accuracy: 0.9332\n",
      "Epoch 78/100\n",
      "37/37 [==============================] - 0s 1ms/step - loss: 0.1917 - accuracy: 0.9307\n",
      "Epoch 79/100\n",
      "37/37 [==============================] - 0s 1ms/step - loss: 0.1904 - accuracy: 0.9324\n",
      "Epoch 80/100\n",
      "37/37 [==============================] - 0s 2ms/step - loss: 0.2030 - accuracy: 0.9289\n",
      "Epoch 81/100\n",
      "37/37 [==============================] - 0s 1ms/step - loss: 0.1877 - accuracy: 0.9358\n",
      "Epoch 82/100\n",
      "37/37 [==============================] - 0s 2ms/step - loss: 0.1916 - accuracy: 0.9341\n",
      "Epoch 83/100\n",
      "37/37 [==============================] - 0s 1ms/step - loss: 0.1970 - accuracy: 0.9247\n",
      "Epoch 84/100\n",
      "37/37 [==============================] - 0s 1ms/step - loss: 0.1847 - accuracy: 0.9341\n",
      "Epoch 85/100\n",
      "37/37 [==============================] - 0s 1ms/step - loss: 0.1940 - accuracy: 0.9307\n",
      "Epoch 86/100\n",
      "37/37 [==============================] - 0s 1ms/step - loss: 0.1988 - accuracy: 0.9255\n",
      "Epoch 87/100\n",
      "37/37 [==============================] - 0s 1ms/step - loss: 0.1976 - accuracy: 0.9289\n",
      "Epoch 88/100\n",
      "37/37 [==============================] - 0s 1ms/step - loss: 0.1934 - accuracy: 0.9289\n",
      "Epoch 89/100\n",
      "37/37 [==============================] - 0s 1ms/step - loss: 0.1947 - accuracy: 0.9272\n",
      "Epoch 90/100\n",
      "37/37 [==============================] - 0s 1ms/step - loss: 0.1980 - accuracy: 0.9272\n",
      "Epoch 91/100\n",
      "37/37 [==============================] - 0s 1ms/step - loss: 0.1923 - accuracy: 0.9255\n",
      "Epoch 92/100\n",
      "37/37 [==============================] - 0s 1ms/step - loss: 0.1837 - accuracy: 0.9332\n",
      "Epoch 93/100\n",
      "37/37 [==============================] - 0s 1ms/step - loss: 0.1934 - accuracy: 0.9264\n",
      "Epoch 94/100\n",
      "37/37 [==============================] - 0s 1ms/step - loss: 0.1931 - accuracy: 0.9315\n",
      "Epoch 95/100\n",
      "37/37 [==============================] - 0s 1ms/step - loss: 0.1895 - accuracy: 0.9358\n",
      "Epoch 96/100\n",
      "37/37 [==============================] - 0s 1ms/step - loss: 0.1903 - accuracy: 0.9332\n",
      "Epoch 97/100\n",
      "37/37 [==============================] - 0s 1ms/step - loss: 0.1846 - accuracy: 0.9315\n",
      "Epoch 98/100\n",
      "37/37 [==============================] - 0s 1ms/step - loss: 0.1931 - accuracy: 0.9289\n",
      "Epoch 99/100\n",
      "37/37 [==============================] - 0s 1ms/step - loss: 0.1867 - accuracy: 0.9324\n",
      "Epoch 100/100\n",
      "37/37 [==============================] - 0s 1ms/step - loss: 0.1940 - accuracy: 0.9341\n"
     ]
    },
    {
     "data": {
      "text/plain": [
       "<keras.callbacks.History at 0x1eeaab92af0>"
      ]
     },
     "execution_count": 150,
     "metadata": {},
     "output_type": "execute_result"
    }
   ],
   "source": [
    "model.fit(X_train,y_train,epochs=100)"
   ]
  },
  {
   "cell_type": "code",
   "execution_count": 156,
   "id": "0fbd9ddc",
   "metadata": {},
   "outputs": [
    {
     "name": "stdout",
     "output_type": "stream",
     "text": [
      "10/10 [==============================] - 0s 2ms/step - loss: 2.0783 - accuracy: 0.7884\n"
     ]
    }
   ],
   "source": [
    "_,accuracy = model.evaluate(X_test,y_test)"
   ]
  },
  {
   "cell_type": "code",
   "execution_count": 157,
   "id": "5b9633aa",
   "metadata": {},
   "outputs": [
    {
     "data": {
      "text/plain": [
       "0.788395881652832"
      ]
     },
     "execution_count": 157,
     "metadata": {},
     "output_type": "execute_result"
    }
   ],
   "source": [
    "accuracy"
   ]
  },
  {
   "cell_type": "markdown",
   "id": "c96301f9",
   "metadata": {},
   "source": [
    "# second model- Softmax implementation with from_logits=True"
   ]
  },
  {
   "cell_type": "code",
   "execution_count": 208,
   "id": "05790c14",
   "metadata": {},
   "outputs": [],
   "source": [
    "model2=Sequential([\n",
    "    Dense(units=100,input_shape=(4,),activation='relu'),\n",
    "    Dense(units=75,activation='relu'),\n",
    "    Dense(units=50,activation='relu'),\n",
    "    Dense(units=25,activation='relu'),\n",
    "    Dense(units=5, activation='linear')\n",
    "])"
   ]
  },
  {
   "cell_type": "code",
   "execution_count": 209,
   "id": "ddc35e84",
   "metadata": {},
   "outputs": [
    {
     "name": "stdout",
     "output_type": "stream",
     "text": [
      "Model: \"sequential_24\"\n",
      "_________________________________________________________________\n",
      " Layer (type)                Output Shape              Param #   \n",
      "=================================================================\n",
      " dense_116 (Dense)           (None, 100)               500       \n",
      "                                                                 \n",
      " dense_117 (Dense)           (None, 75)                7575      \n",
      "                                                                 \n",
      " dense_118 (Dense)           (None, 50)                3800      \n",
      "                                                                 \n",
      " dense_119 (Dense)           (None, 25)                1275      \n",
      "                                                                 \n",
      " dense_120 (Dense)           (None, 5)                 130       \n",
      "                                                                 \n",
      "=================================================================\n",
      "Total params: 13,280\n",
      "Trainable params: 13,280\n",
      "Non-trainable params: 0\n",
      "_________________________________________________________________\n"
     ]
    }
   ],
   "source": [
    "model2.summary()"
   ]
  },
  {
   "cell_type": "code",
   "execution_count": 211,
   "id": "ffda5b67",
   "metadata": {},
   "outputs": [],
   "source": [
    "model2.compile(optimizer='adam',loss=tf.keras.losses.SparseCategoricalCrossentropy(from_logits=True), metrics=['accuracy'])"
   ]
  },
  {
   "cell_type": "code",
   "execution_count": 214,
   "id": "807116f7",
   "metadata": {},
   "outputs": [
    {
     "name": "stdout",
     "output_type": "stream",
     "text": [
      "Epoch 1/100\n",
      "234/234 [==============================] - 1s 1ms/step - loss: 0.8465 - accuracy: 0.7080\n",
      "Epoch 2/100\n",
      "234/234 [==============================] - 0s 1ms/step - loss: 0.6127 - accuracy: 0.7962\n",
      "Epoch 3/100\n",
      "234/234 [==============================] - 0s 1ms/step - loss: 0.6132 - accuracy: 0.8014\n",
      "Epoch 4/100\n",
      "234/234 [==============================] - 0s 1ms/step - loss: 0.5538 - accuracy: 0.8228\n",
      "Epoch 5/100\n",
      "234/234 [==============================] - 0s 1ms/step - loss: 0.5436 - accuracy: 0.8245\n",
      "Epoch 6/100\n",
      "234/234 [==============================] - 0s 1ms/step - loss: 0.5128 - accuracy: 0.8339\n",
      "Epoch 7/100\n",
      "234/234 [==============================] - 0s 1ms/step - loss: 0.4972 - accuracy: 0.8442\n",
      "Epoch 8/100\n",
      "234/234 [==============================] - 0s 1ms/step - loss: 0.4901 - accuracy: 0.8450\n",
      "Epoch 9/100\n",
      "234/234 [==============================] - 0s 1ms/step - loss: 0.4888 - accuracy: 0.8467\n",
      "Epoch 10/100\n",
      "234/234 [==============================] - 0s 1ms/step - loss: 0.5014 - accuracy: 0.8442\n",
      "Epoch 11/100\n",
      "234/234 [==============================] - 0s 1ms/step - loss: 0.4728 - accuracy: 0.8527\n",
      "Epoch 12/100\n",
      "234/234 [==============================] - 0s 1ms/step - loss: 0.4927 - accuracy: 0.8416\n",
      "Epoch 13/100\n",
      "234/234 [==============================] - 0s 1ms/step - loss: 0.4657 - accuracy: 0.8519\n",
      "Epoch 14/100\n",
      "234/234 [==============================] - 0s 1ms/step - loss: 0.4609 - accuracy: 0.8579\n",
      "Epoch 15/100\n",
      "234/234 [==============================] - 0s 1ms/step - loss: 0.4750 - accuracy: 0.8502\n",
      "Epoch 16/100\n",
      "234/234 [==============================] - 0s 1ms/step - loss: 0.4569 - accuracy: 0.8562\n",
      "Epoch 17/100\n",
      "234/234 [==============================] - 0s 1ms/step - loss: 0.4582 - accuracy: 0.8587\n",
      "Epoch 18/100\n",
      "234/234 [==============================] - 0s 1ms/step - loss: 0.4542 - accuracy: 0.8587\n",
      "Epoch 19/100\n",
      "234/234 [==============================] - 0s 1ms/step - loss: 0.4633 - accuracy: 0.8562\n",
      "Epoch 20/100\n",
      "234/234 [==============================] - 0s 1ms/step - loss: 0.4518 - accuracy: 0.8579\n",
      "Epoch 21/100\n",
      "234/234 [==============================] - 0s 1ms/step - loss: 0.4503 - accuracy: 0.8562\n",
      "Epoch 22/100\n",
      "234/234 [==============================] - 0s 1ms/step - loss: 0.4541 - accuracy: 0.8579\n",
      "Epoch 23/100\n",
      "234/234 [==============================] - 0s 2ms/step - loss: 0.4692 - accuracy: 0.8502\n",
      "Epoch 24/100\n",
      "234/234 [==============================] - 0s 2ms/step - loss: 0.4683 - accuracy: 0.8519\n",
      "Epoch 25/100\n",
      "234/234 [==============================] - 0s 1ms/step - loss: 0.4492 - accuracy: 0.8579\n",
      "Epoch 26/100\n",
      "234/234 [==============================] - 0s 1ms/step - loss: 0.4491 - accuracy: 0.8579\n",
      "Epoch 27/100\n",
      "234/234 [==============================] - 0s 1ms/step - loss: 0.4494 - accuracy: 0.8570\n",
      "Epoch 28/100\n",
      "234/234 [==============================] - 0s 2ms/step - loss: 0.4618 - accuracy: 0.8527\n",
      "Epoch 29/100\n",
      "234/234 [==============================] - 0s 1ms/step - loss: 0.4401 - accuracy: 0.8596\n",
      "Epoch 30/100\n",
      "234/234 [==============================] - 0s 1ms/step - loss: 0.4441 - accuracy: 0.8596\n",
      "Epoch 31/100\n",
      "234/234 [==============================] - 0s 1ms/step - loss: 0.4371 - accuracy: 0.8604\n",
      "Epoch 32/100\n",
      "234/234 [==============================] - 0s 1ms/step - loss: 0.4508 - accuracy: 0.8587\n",
      "Epoch 33/100\n",
      "234/234 [==============================] - 0s 1ms/step - loss: 0.4462 - accuracy: 0.8570\n",
      "Epoch 34/100\n",
      "234/234 [==============================] - 0s 2ms/step - loss: 0.5122 - accuracy: 0.8322\n",
      "Epoch 35/100\n",
      "234/234 [==============================] - 0s 2ms/step - loss: 0.4767 - accuracy: 0.8467\n",
      "Epoch 36/100\n",
      "234/234 [==============================] - 0s 1ms/step - loss: 0.4590 - accuracy: 0.8562\n",
      "Epoch 37/100\n",
      "234/234 [==============================] - 0s 1ms/step - loss: 0.4378 - accuracy: 0.8613\n",
      "Epoch 38/100\n",
      "234/234 [==============================] - 0s 1ms/step - loss: 0.4357 - accuracy: 0.8562\n",
      "Epoch 39/100\n",
      "234/234 [==============================] - 0s 1ms/step - loss: 0.4423 - accuracy: 0.8596\n",
      "Epoch 40/100\n",
      "234/234 [==============================] - 0s 1ms/step - loss: 0.4358 - accuracy: 0.8604\n",
      "Epoch 41/100\n",
      "234/234 [==============================] - 0s 1ms/step - loss: 0.4361 - accuracy: 0.8604\n",
      "Epoch 42/100\n",
      "234/234 [==============================] - 0s 1ms/step - loss: 0.4307 - accuracy: 0.8604\n",
      "Epoch 43/100\n",
      "234/234 [==============================] - 0s 1ms/step - loss: 0.4259 - accuracy: 0.8630\n",
      "Epoch 44/100\n",
      "234/234 [==============================] - 0s 1ms/step - loss: 0.4351 - accuracy: 0.8579\n",
      "Epoch 45/100\n",
      "234/234 [==============================] - 0s 1ms/step - loss: 0.4333 - accuracy: 0.8604\n",
      "Epoch 46/100\n",
      "234/234 [==============================] - 0s 1ms/step - loss: 0.4277 - accuracy: 0.8622\n",
      "Epoch 47/100\n",
      "234/234 [==============================] - 0s 1ms/step - loss: 0.4245 - accuracy: 0.8630\n",
      "Epoch 48/100\n",
      "234/234 [==============================] - 0s 1ms/step - loss: 0.4354 - accuracy: 0.8579\n",
      "Epoch 49/100\n",
      "234/234 [==============================] - 0s 1ms/step - loss: 0.4359 - accuracy: 0.8587\n",
      "Epoch 50/100\n",
      "234/234 [==============================] - 0s 1ms/step - loss: 0.4276 - accuracy: 0.8596\n",
      "Epoch 51/100\n",
      "234/234 [==============================] - 0s 1ms/step - loss: 0.4343 - accuracy: 0.8596\n",
      "Epoch 52/100\n",
      "234/234 [==============================] - 0s 1ms/step - loss: 0.4702 - accuracy: 0.8467\n",
      "Epoch 53/100\n",
      "234/234 [==============================] - 0s 1ms/step - loss: 0.4328 - accuracy: 0.8613\n",
      "Epoch 54/100\n",
      "234/234 [==============================] - 0s 1ms/step - loss: 0.4226 - accuracy: 0.8664\n",
      "Epoch 55/100\n",
      "234/234 [==============================] - 0s 1ms/step - loss: 0.4207 - accuracy: 0.8639\n",
      "Epoch 56/100\n",
      "234/234 [==============================] - 0s 1ms/step - loss: 0.4255 - accuracy: 0.8647\n",
      "Epoch 57/100\n",
      "234/234 [==============================] - 0s 1ms/step - loss: 0.4258 - accuracy: 0.8647\n",
      "Epoch 58/100\n",
      "234/234 [==============================] - 0s 1ms/step - loss: 0.4245 - accuracy: 0.8622\n",
      "Epoch 59/100\n",
      "234/234 [==============================] - 0s 1ms/step - loss: 0.4270 - accuracy: 0.8596\n",
      "Epoch 60/100\n",
      "234/234 [==============================] - 0s 1ms/step - loss: 0.4187 - accuracy: 0.8647\n",
      "Epoch 61/100\n",
      "234/234 [==============================] - 0s 1ms/step - loss: 0.4341 - accuracy: 0.8587\n",
      "Epoch 62/100\n",
      "234/234 [==============================] - 0s 1ms/step - loss: 0.4278 - accuracy: 0.8604\n",
      "Epoch 63/100\n",
      "234/234 [==============================] - 0s 1ms/step - loss: 0.4194 - accuracy: 0.8622\n",
      "Epoch 64/100\n",
      "234/234 [==============================] - 0s 1ms/step - loss: 0.4198 - accuracy: 0.8639\n",
      "Epoch 65/100\n",
      "234/234 [==============================] - 0s 2ms/step - loss: 0.4163 - accuracy: 0.8647\n",
      "Epoch 66/100\n",
      "234/234 [==============================] - 0s 1ms/step - loss: 0.4191 - accuracy: 0.8639\n",
      "Epoch 67/100\n",
      "234/234 [==============================] - 0s 1ms/step - loss: 0.4159 - accuracy: 0.8622\n",
      "Epoch 68/100\n",
      "234/234 [==============================] - 0s 1ms/step - loss: 0.4118 - accuracy: 0.8630\n",
      "Epoch 69/100\n",
      "234/234 [==============================] - 0s 1ms/step - loss: 0.4172 - accuracy: 0.8664\n",
      "Epoch 70/100\n",
      "234/234 [==============================] - 0s 1ms/step - loss: 0.4157 - accuracy: 0.8613\n",
      "Epoch 71/100\n",
      "234/234 [==============================] - 0s 1ms/step - loss: 0.4168 - accuracy: 0.8613\n",
      "Epoch 72/100\n",
      "234/234 [==============================] - 0s 2ms/step - loss: 0.4152 - accuracy: 0.8656\n",
      "Epoch 73/100\n",
      "234/234 [==============================] - 0s 2ms/step - loss: 0.4127 - accuracy: 0.8647\n",
      "Epoch 74/100\n",
      "234/234 [==============================] - 0s 1ms/step - loss: 0.4092 - accuracy: 0.8699\n",
      "Epoch 75/100\n",
      "234/234 [==============================] - 0s 1ms/step - loss: 0.4138 - accuracy: 0.8647\n",
      "Epoch 76/100\n",
      "234/234 [==============================] - 0s 1ms/step - loss: 0.4146 - accuracy: 0.8682\n",
      "Epoch 77/100\n",
      "234/234 [==============================] - 0s 1ms/step - loss: 0.4093 - accuracy: 0.8673\n",
      "Epoch 78/100\n",
      "234/234 [==============================] - 0s 1ms/step - loss: 0.4149 - accuracy: 0.8664\n",
      "Epoch 79/100\n",
      "234/234 [==============================] - 0s 1ms/step - loss: 0.4095 - accuracy: 0.8682\n",
      "Epoch 80/100\n",
      "234/234 [==============================] - 0s 1ms/step - loss: 0.4116 - accuracy: 0.8656\n",
      "Epoch 81/100\n",
      "234/234 [==============================] - 0s 1ms/step - loss: 0.4173 - accuracy: 0.8639\n",
      "Epoch 82/100\n",
      "234/234 [==============================] - 0s 1ms/step - loss: 0.4027 - accuracy: 0.8690\n",
      "Epoch 83/100\n",
      "234/234 [==============================] - 0s 1ms/step - loss: 0.4069 - accuracy: 0.8673\n",
      "Epoch 84/100\n",
      "234/234 [==============================] - 0s 1ms/step - loss: 0.4057 - accuracy: 0.8673\n",
      "Epoch 85/100\n",
      "234/234 [==============================] - 0s 1ms/step - loss: 0.4008 - accuracy: 0.8707\n",
      "Epoch 86/100\n",
      "234/234 [==============================] - 0s 1ms/step - loss: 0.4037 - accuracy: 0.8664\n",
      "Epoch 87/100\n",
      "234/234 [==============================] - 0s 1ms/step - loss: 0.4069 - accuracy: 0.8682\n",
      "Epoch 88/100\n",
      "234/234 [==============================] - 0s 1ms/step - loss: 0.4130 - accuracy: 0.8673\n",
      "Epoch 89/100\n",
      "234/234 [==============================] - 0s 1ms/step - loss: 0.4153 - accuracy: 0.8664\n",
      "Epoch 90/100\n",
      "234/234 [==============================] - 0s 1ms/step - loss: 0.4163 - accuracy: 0.8682\n",
      "Epoch 91/100\n",
      "234/234 [==============================] - 0s 1ms/step - loss: 0.4030 - accuracy: 0.8716\n",
      "Epoch 92/100\n",
      "234/234 [==============================] - 0s 1ms/step - loss: 0.4038 - accuracy: 0.8682\n",
      "Epoch 93/100\n",
      "234/234 [==============================] - 0s 1ms/step - loss: 0.4003 - accuracy: 0.8707\n",
      "Epoch 94/100\n",
      "234/234 [==============================] - 0s 1ms/step - loss: 0.3960 - accuracy: 0.8707\n",
      "Epoch 95/100\n",
      "234/234 [==============================] - 0s 1ms/step - loss: 0.3936 - accuracy: 0.8707\n",
      "Epoch 96/100\n",
      "234/234 [==============================] - 0s 1ms/step - loss: 0.3927 - accuracy: 0.8741\n",
      "Epoch 97/100\n",
      "234/234 [==============================] - 0s 1ms/step - loss: 0.3943 - accuracy: 0.8707\n",
      "Epoch 98/100\n",
      "234/234 [==============================] - 0s 1ms/step - loss: 0.4005 - accuracy: 0.8682\n",
      "Epoch 99/100\n",
      "234/234 [==============================] - 0s 1ms/step - loss: 0.3958 - accuracy: 0.8707\n",
      "Epoch 100/100\n",
      "234/234 [==============================] - 0s 2ms/step - loss: 0.3928 - accuracy: 0.8724\n"
     ]
    },
    {
     "data": {
      "text/plain": [
       "<keras.callbacks.History at 0x1eebf49c6a0>"
      ]
     },
     "execution_count": 214,
     "metadata": {},
     "output_type": "execute_result"
    }
   ],
   "source": [
    "model2.fit(X_train,y_train,epochs=100,batch_size=5, verbose=1)"
   ]
  },
  {
   "cell_type": "code",
   "execution_count": 215,
   "id": "f3c5c83e",
   "metadata": {
    "scrolled": true
   },
   "outputs": [
    {
     "name": "stdout",
     "output_type": "stream",
     "text": [
      "10/10 [==============================] - 0s 2ms/step - loss: 0.6209 - accuracy: 0.8328\n"
     ]
    },
    {
     "data": {
      "text/plain": [
       "[0.62086021900177, 0.8327645063400269]"
      ]
     },
     "execution_count": 215,
     "metadata": {},
     "output_type": "execute_result"
    }
   ],
   "source": [
    "model2.evaluate(X_test,y_test)"
   ]
  },
  {
   "cell_type": "markdown",
   "id": "a33b884b",
   "metadata": {},
   "source": [
    "# third model- Adam Optimization included now"
   ]
  },
  {
   "cell_type": "code",
   "execution_count": 197,
   "id": "8039a297",
   "metadata": {},
   "outputs": [],
   "source": [
    "model3=Sequential([\n",
    "    Dense(units=100,input_shape=(4,),activation='relu'),\n",
    "    Dense(units=75,activation='relu'),\n",
    "    Dense(units=50,activation='relu'),\n",
    "    Dense(units=25,activation='relu'),\n",
    "    Dense(units=5, activation='linear')\n",
    "])"
   ]
  },
  {
   "cell_type": "code",
   "execution_count": 204,
   "id": "3745b7a7",
   "metadata": {},
   "outputs": [],
   "source": [
    "model3.compile(optimizer='adam',loss=tf.keras.losses.SparseCategoricalCrossentropy(from_logits=True), metrics=['accuracy'])"
   ]
  },
  {
   "cell_type": "code",
   "execution_count": 205,
   "id": "2c1ccc72",
   "metadata": {},
   "outputs": [
    {
     "name": "stdout",
     "output_type": "stream",
     "text": [
      "Epoch 1/100\n",
      "37/37 [==============================] - 1s 2ms/step - loss: 0.4892 - accuracy: 0.8425\n",
      "Epoch 2/100\n",
      "37/37 [==============================] - 0s 2ms/step - loss: 0.5083 - accuracy: 0.8433\n",
      "Epoch 3/100\n",
      "37/37 [==============================] - 0s 2ms/step - loss: 0.4705 - accuracy: 0.8502\n",
      "Epoch 4/100\n",
      "37/37 [==============================] - 0s 2ms/step - loss: 0.4566 - accuracy: 0.8553\n",
      "Epoch 5/100\n",
      "37/37 [==============================] - 0s 2ms/step - loss: 0.4568 - accuracy: 0.8545\n",
      "Epoch 6/100\n",
      "37/37 [==============================] - 0s 2ms/step - loss: 0.4497 - accuracy: 0.8579\n",
      "Epoch 7/100\n",
      "37/37 [==============================] - 0s 2ms/step - loss: 0.4493 - accuracy: 0.8562\n",
      "Epoch 8/100\n",
      "37/37 [==============================] - 0s 1ms/step - loss: 0.4654 - accuracy: 0.8519\n",
      "Epoch 9/100\n",
      "37/37 [==============================] - 0s 2ms/step - loss: 0.4596 - accuracy: 0.8562\n",
      "Epoch 10/100\n",
      "37/37 [==============================] - 0s 2ms/step - loss: 0.4521 - accuracy: 0.8570\n",
      "Epoch 11/100\n",
      "37/37 [==============================] - 0s 2ms/step - loss: 0.4484 - accuracy: 0.8562\n",
      "Epoch 12/100\n",
      "37/37 [==============================] - 0s 2ms/step - loss: 0.4356 - accuracy: 0.8596\n",
      "Epoch 13/100\n",
      "37/37 [==============================] - 0s 2ms/step - loss: 0.4461 - accuracy: 0.8536\n",
      "Epoch 14/100\n",
      "37/37 [==============================] - 0s 2ms/step - loss: 0.4536 - accuracy: 0.8553\n",
      "Epoch 15/100\n",
      "37/37 [==============================] - 0s 2ms/step - loss: 0.4481 - accuracy: 0.8562\n",
      "Epoch 16/100\n",
      "37/37 [==============================] - 0s 2ms/step - loss: 0.4365 - accuracy: 0.8579\n",
      "Epoch 17/100\n",
      "37/37 [==============================] - 0s 2ms/step - loss: 0.4486 - accuracy: 0.8570\n",
      "Epoch 18/100\n",
      "37/37 [==============================] - 0s 2ms/step - loss: 0.4348 - accuracy: 0.8613\n",
      "Epoch 19/100\n",
      "37/37 [==============================] - 0s 3ms/step - loss: 0.4421 - accuracy: 0.8545\n",
      "Epoch 20/100\n",
      "37/37 [==============================] - 0s 2ms/step - loss: 0.4387 - accuracy: 0.8596\n",
      "Epoch 21/100\n",
      "37/37 [==============================] - 0s 2ms/step - loss: 0.4385 - accuracy: 0.8536\n",
      "Epoch 22/100\n",
      "37/37 [==============================] - 0s 2ms/step - loss: 0.4300 - accuracy: 0.8613\n",
      "Epoch 23/100\n",
      "37/37 [==============================] - 0s 1ms/step - loss: 0.4510 - accuracy: 0.8527\n",
      "Epoch 24/100\n",
      "37/37 [==============================] - 0s 1ms/step - loss: 0.4440 - accuracy: 0.8596\n",
      "Epoch 25/100\n",
      "37/37 [==============================] - 0s 1ms/step - loss: 0.4330 - accuracy: 0.8596\n",
      "Epoch 26/100\n",
      "37/37 [==============================] - 0s 1ms/step - loss: 0.4282 - accuracy: 0.8622\n",
      "Epoch 27/100\n",
      "37/37 [==============================] - 0s 2ms/step - loss: 0.4295 - accuracy: 0.8613\n",
      "Epoch 28/100\n",
      "37/37 [==============================] - 0s 1ms/step - loss: 0.4274 - accuracy: 0.8613\n",
      "Epoch 29/100\n",
      "37/37 [==============================] - 0s 1ms/step - loss: 0.4312 - accuracy: 0.8579\n",
      "Epoch 30/100\n",
      "37/37 [==============================] - 0s 1ms/step - loss: 0.4278 - accuracy: 0.8604\n",
      "Epoch 31/100\n",
      "37/37 [==============================] - 0s 1ms/step - loss: 0.4256 - accuracy: 0.8613\n",
      "Epoch 32/100\n",
      "37/37 [==============================] - 0s 1ms/step - loss: 0.4309 - accuracy: 0.8587\n",
      "Epoch 33/100\n",
      "37/37 [==============================] - 0s 1ms/step - loss: 0.4263 - accuracy: 0.8587\n",
      "Epoch 34/100\n",
      "37/37 [==============================] - 0s 1ms/step - loss: 0.4251 - accuracy: 0.8622\n",
      "Epoch 35/100\n",
      "37/37 [==============================] - 0s 1ms/step - loss: 0.4251 - accuracy: 0.8622\n",
      "Epoch 36/100\n",
      "37/37 [==============================] - 0s 1ms/step - loss: 0.4294 - accuracy: 0.8622\n",
      "Epoch 37/100\n",
      "37/37 [==============================] - 0s 1ms/step - loss: 0.4205 - accuracy: 0.8630\n",
      "Epoch 38/100\n",
      "37/37 [==============================] - 0s 1ms/step - loss: 0.4253 - accuracy: 0.8664\n",
      "Epoch 39/100\n",
      "37/37 [==============================] - 0s 1ms/step - loss: 0.4311 - accuracy: 0.8562\n",
      "Epoch 40/100\n",
      "37/37 [==============================] - 0s 1ms/step - loss: 0.4203 - accuracy: 0.8630\n",
      "Epoch 41/100\n",
      "37/37 [==============================] - 0s 1ms/step - loss: 0.4197 - accuracy: 0.8664\n",
      "Epoch 42/100\n",
      "37/37 [==============================] - 0s 1ms/step - loss: 0.4210 - accuracy: 0.8579\n",
      "Epoch 43/100\n",
      "37/37 [==============================] - 0s 1ms/step - loss: 0.4211 - accuracy: 0.8604\n",
      "Epoch 44/100\n",
      "37/37 [==============================] - 0s 1ms/step - loss: 0.4194 - accuracy: 0.8639\n",
      "Epoch 45/100\n",
      "37/37 [==============================] - 0s 1ms/step - loss: 0.4210 - accuracy: 0.8647\n",
      "Epoch 46/100\n",
      "37/37 [==============================] - 0s 1ms/step - loss: 0.4223 - accuracy: 0.8596\n",
      "Epoch 47/100\n",
      "37/37 [==============================] - 0s 1ms/step - loss: 0.4450 - accuracy: 0.8562\n",
      "Epoch 48/100\n",
      "37/37 [==============================] - 0s 1ms/step - loss: 0.4240 - accuracy: 0.8604\n",
      "Epoch 49/100\n",
      "37/37 [==============================] - 0s 1ms/step - loss: 0.4222 - accuracy: 0.8596\n",
      "Epoch 50/100\n",
      "37/37 [==============================] - 0s 1ms/step - loss: 0.4242 - accuracy: 0.8622\n",
      "Epoch 51/100\n",
      "37/37 [==============================] - 0s 1ms/step - loss: 0.4205 - accuracy: 0.8604\n",
      "Epoch 52/100\n",
      "37/37 [==============================] - 0s 1ms/step - loss: 0.4095 - accuracy: 0.8647\n",
      "Epoch 53/100\n",
      "37/37 [==============================] - 0s 1ms/step - loss: 0.4183 - accuracy: 0.8630\n",
      "Epoch 54/100\n",
      "37/37 [==============================] - 0s 1ms/step - loss: 0.4202 - accuracy: 0.8596\n",
      "Epoch 55/100\n",
      "37/37 [==============================] - 0s 1ms/step - loss: 0.4131 - accuracy: 0.8664\n",
      "Epoch 56/100\n",
      "37/37 [==============================] - 0s 1ms/step - loss: 0.4055 - accuracy: 0.8630\n",
      "Epoch 57/100\n",
      "37/37 [==============================] - 0s 1ms/step - loss: 0.4129 - accuracy: 0.8622\n",
      "Epoch 58/100\n",
      "37/37 [==============================] - 0s 1ms/step - loss: 0.4097 - accuracy: 0.8673\n",
      "Epoch 59/100\n",
      "37/37 [==============================] - 0s 1ms/step - loss: 0.4113 - accuracy: 0.8664\n",
      "Epoch 60/100\n",
      "37/37 [==============================] - 0s 1ms/step - loss: 0.4138 - accuracy: 0.8622\n",
      "Epoch 61/100\n",
      "37/37 [==============================] - 0s 1ms/step - loss: 0.4110 - accuracy: 0.8664\n",
      "Epoch 62/100\n",
      "37/37 [==============================] - 0s 1ms/step - loss: 0.4186 - accuracy: 0.8656\n",
      "Epoch 63/100\n",
      "37/37 [==============================] - 0s 1ms/step - loss: 0.4141 - accuracy: 0.8664\n",
      "Epoch 64/100\n",
      "37/37 [==============================] - 0s 1ms/step - loss: 0.4041 - accuracy: 0.8656\n",
      "Epoch 65/100\n",
      "37/37 [==============================] - 0s 1ms/step - loss: 0.4068 - accuracy: 0.8656\n",
      "Epoch 66/100\n",
      "37/37 [==============================] - 0s 1ms/step - loss: 0.4060 - accuracy: 0.8630\n",
      "Epoch 67/100\n",
      "37/37 [==============================] - 0s 1ms/step - loss: 0.4024 - accuracy: 0.8707\n",
      "Epoch 68/100\n",
      "37/37 [==============================] - 0s 1ms/step - loss: 0.4066 - accuracy: 0.8699\n",
      "Epoch 69/100\n",
      "37/37 [==============================] - 0s 2ms/step - loss: 0.4011 - accuracy: 0.8707\n",
      "Epoch 70/100\n",
      "37/37 [==============================] - 0s 1ms/step - loss: 0.4042 - accuracy: 0.8647\n",
      "Epoch 71/100\n",
      "37/37 [==============================] - 0s 1ms/step - loss: 0.4068 - accuracy: 0.8682\n",
      "Epoch 72/100\n",
      "37/37 [==============================] - 0s 1ms/step - loss: 0.4032 - accuracy: 0.8630\n",
      "Epoch 73/100\n",
      "37/37 [==============================] - 0s 1ms/step - loss: 0.4081 - accuracy: 0.8647\n",
      "Epoch 74/100\n",
      "37/37 [==============================] - 0s 1ms/step - loss: 0.4018 - accuracy: 0.8707\n",
      "Epoch 75/100\n",
      "37/37 [==============================] - 0s 2ms/step - loss: 0.3968 - accuracy: 0.8699\n",
      "Epoch 76/100\n",
      "37/37 [==============================] - 0s 2ms/step - loss: 0.3989 - accuracy: 0.8690\n",
      "Epoch 77/100\n",
      "37/37 [==============================] - 0s 2ms/step - loss: 0.4018 - accuracy: 0.8699\n",
      "Epoch 78/100\n",
      "37/37 [==============================] - 0s 2ms/step - loss: 0.4145 - accuracy: 0.8682\n",
      "Epoch 79/100\n",
      "37/37 [==============================] - 0s 2ms/step - loss: 0.4117 - accuracy: 0.8647\n",
      "Epoch 80/100\n",
      "37/37 [==============================] - 0s 1ms/step - loss: 0.4024 - accuracy: 0.8707\n",
      "Epoch 81/100\n",
      "37/37 [==============================] - 0s 2ms/step - loss: 0.4014 - accuracy: 0.8664\n",
      "Epoch 82/100\n",
      "37/37 [==============================] - 0s 2ms/step - loss: 0.3954 - accuracy: 0.8673\n",
      "Epoch 83/100\n",
      "37/37 [==============================] - 0s 2ms/step - loss: 0.3963 - accuracy: 0.8733\n",
      "Epoch 84/100\n",
      "37/37 [==============================] - 0s 2ms/step - loss: 0.3957 - accuracy: 0.8699\n",
      "Epoch 85/100\n",
      "37/37 [==============================] - 0s 1ms/step - loss: 0.3965 - accuracy: 0.8664\n",
      "Epoch 86/100\n",
      "37/37 [==============================] - 0s 1ms/step - loss: 0.3989 - accuracy: 0.8699\n",
      "Epoch 87/100\n",
      "37/37 [==============================] - 0s 2ms/step - loss: 0.3909 - accuracy: 0.8716\n",
      "Epoch 88/100\n",
      "37/37 [==============================] - 0s 2ms/step - loss: 0.4015 - accuracy: 0.8682\n",
      "Epoch 89/100\n",
      "37/37 [==============================] - 0s 2ms/step - loss: 0.3963 - accuracy: 0.8716\n",
      "Epoch 90/100\n",
      "37/37 [==============================] - 0s 1ms/step - loss: 0.3910 - accuracy: 0.8699\n",
      "Epoch 91/100\n",
      "37/37 [==============================] - 0s 1ms/step - loss: 0.3986 - accuracy: 0.8699\n",
      "Epoch 92/100\n",
      "37/37 [==============================] - 0s 1ms/step - loss: 0.3893 - accuracy: 0.8707\n",
      "Epoch 93/100\n",
      "37/37 [==============================] - 0s 1ms/step - loss: 0.3959 - accuracy: 0.8716\n",
      "Epoch 94/100\n",
      "37/37 [==============================] - 0s 1ms/step - loss: 0.3947 - accuracy: 0.8690\n",
      "Epoch 95/100\n",
      "37/37 [==============================] - 0s 1ms/step - loss: 0.3931 - accuracy: 0.8707\n",
      "Epoch 96/100\n",
      "37/37 [==============================] - 0s 2ms/step - loss: 0.3923 - accuracy: 0.8707\n",
      "Epoch 97/100\n",
      "37/37 [==============================] - 0s 2ms/step - loss: 0.3913 - accuracy: 0.8724\n",
      "Epoch 98/100\n",
      "37/37 [==============================] - 0s 2ms/step - loss: 0.3896 - accuracy: 0.8716\n",
      "Epoch 99/100\n",
      "37/37 [==============================] - 0s 2ms/step - loss: 0.3866 - accuracy: 0.8707\n",
      "Epoch 100/100\n",
      "37/37 [==============================] - 0s 1ms/step - loss: 0.3923 - accuracy: 0.8724\n"
     ]
    },
    {
     "data": {
      "text/plain": [
       "<keras.callbacks.History at 0x1eeb63e1850>"
      ]
     },
     "execution_count": 205,
     "metadata": {},
     "output_type": "execute_result"
    }
   ],
   "source": [
    "model3.fit(X_train,y_train,epochs=100)"
   ]
  },
  {
   "cell_type": "code",
   "execution_count": 216,
   "id": "4e8989ca",
   "metadata": {},
   "outputs": [
    {
     "name": "stdout",
     "output_type": "stream",
     "text": [
      "10/10 [==============================] - 0s 2ms/step - loss: 0.5740 - accuracy: 0.8328\n"
     ]
    },
    {
     "data": {
      "text/plain": [
       "[0.574020266532898, 0.8327645063400269]"
      ]
     },
     "execution_count": 216,
     "metadata": {},
     "output_type": "execute_result"
    }
   ],
   "source": [
    "model3.evaluate(X_test, y_test)"
   ]
  },
  {
   "cell_type": "markdown",
   "id": "55aec56a",
   "metadata": {},
   "source": [
    "# using hyperparameter tuning (keras tuner)"
   ]
  },
  {
   "cell_type": "code",
   "execution_count": 294,
   "id": "868444ca",
   "metadata": {},
   "outputs": [],
   "source": [
    "from tensorflow import keras\n",
    "from tensorflow.keras import layers\n",
    "from keras_tuner.tuners import RandomSearch"
   ]
  },
  {
   "cell_type": "code",
   "execution_count": 316,
   "id": "83cccbb8",
   "metadata": {},
   "outputs": [],
   "source": [
    "def build_model(hp):\n",
    "     # Initialize the Sequential API and start stacking the layers\n",
    "  model = keras.Sequential()\n",
    "  model.add(keras.layers.Flatten(input_shape=(4,)))\n",
    "  # Tune the number of units in the first Dense layer\n",
    "  # Choose an optimal value between 32-512\n",
    "  hp_units = hp.Int('units', min_value=32, max_value=512, step=32)\n",
    "  model.add(keras.layers.Dense(units=hp_units, activation='relu', name='dense_1'))\n",
    "  # Add next layers\n",
    "  model.add(keras.layers.Dropout(0.2))\n",
    "  model.add(keras.layers.Dense(10, activation='softmax'))\n",
    "  # Tune the learning rate for the optimizer\n",
    "  # Choose an optimal value from 0.01, 0.001, or 0.0001\n",
    "  hp_learning_rate = hp.Choice('learning_rate', values=[1e-2, 1e-3, 1e-4])\n",
    "  model.compile(optimizer=keras.optimizers.Adam(learning_rate=hp_learning_rate),\n",
    "                loss=keras.losses.SparseCategoricalCrossentropy(),\n",
    "                metrics=['accuracy'])\n",
    "  return model"
   ]
  },
  {
   "cell_type": "code",
   "execution_count": 317,
   "id": "e29fdee8",
   "metadata": {},
   "outputs": [],
   "source": [
    "# Instantiate the tuner\n",
    "tuner = kt.Hyperband(build_model, # the hypermodel\n",
    "                     objective='val_accuracy', # objective to optimize\n",
    "max_epochs=10,\n",
    "factor=3, # factor which you have seen above \n",
    "directory='dir', # directory to save logs \n",
    "project_name='khyperband',\n",
    "overwrite=True,\n",
    "                    )"
   ]
  },
  {
   "cell_type": "code",
   "execution_count": 318,
   "id": "fa4c3196",
   "metadata": {},
   "outputs": [
    {
     "name": "stdout",
     "output_type": "stream",
     "text": [
      "Search space summary\n",
      "Default search space size: 2\n",
      "units (Int)\n",
      "{'default': None, 'conditions': [], 'min_value': 32, 'max_value': 512, 'step': 32, 'sampling': 'linear'}\n",
      "learning_rate (Choice)\n",
      "{'default': 0.01, 'conditions': [], 'values': [0.01, 0.001, 0.0001], 'ordered': True}\n"
     ]
    }
   ],
   "source": [
    "tuner.search_space_summary()"
   ]
  },
  {
   "cell_type": "code",
   "execution_count": 319,
   "id": "ea86f6b9",
   "metadata": {},
   "outputs": [
    {
     "name": "stdout",
     "output_type": "stream",
     "text": [
      "Trial 30 Complete [00h 00m 02s]\n",
      "val_accuracy: 0.8547008633613586\n",
      "\n",
      "Best val_accuracy So Far: 0.867521345615387\n",
      "Total elapsed time: 00h 00m 50s\n",
      "INFO:tensorflow:Oracle triggered exit\n"
     ]
    }
   ],
   "source": [
    "# Perform hypertuning\n",
    "tuner.search(X_train, y_train, epochs=10, validation_split=0.2)"
   ]
  },
  {
   "cell_type": "code",
   "execution_count": 320,
   "id": "87b59261",
   "metadata": {},
   "outputs": [
    {
     "name": "stdout",
     "output_type": "stream",
     "text": [
      "Results summary\n",
      "Results in dir\\khyperband\n",
      "Showing 10 best trials\n",
      "<keras_tuner.engine.objective.Objective object at 0x000001EEC3429340>\n",
      "Trial summary\n",
      "Hyperparameters:\n",
      "units: 288\n",
      "learning_rate: 0.01\n",
      "tuner/epochs: 10\n",
      "tuner/initial_epoch: 4\n",
      "tuner/bracket: 2\n",
      "tuner/round: 2\n",
      "tuner/trial_id: 0013\n",
      "Score: 0.867521345615387\n",
      "Trial summary\n",
      "Hyperparameters:\n",
      "units: 352\n",
      "learning_rate: 0.01\n",
      "tuner/epochs: 10\n",
      "tuner/initial_epoch: 4\n",
      "tuner/bracket: 2\n",
      "tuner/round: 2\n",
      "tuner/trial_id: 0012\n",
      "Score: 0.8632478713989258\n",
      "Trial summary\n",
      "Hyperparameters:\n",
      "units: 448\n",
      "learning_rate: 0.01\n",
      "tuner/epochs: 10\n",
      "tuner/initial_epoch: 0\n",
      "tuner/bracket: 0\n",
      "tuner/round: 0\n",
      "Score: 0.8589743375778198\n",
      "Trial summary\n",
      "Hyperparameters:\n",
      "units: 32\n",
      "learning_rate: 0.01\n",
      "tuner/epochs: 10\n",
      "tuner/initial_epoch: 0\n",
      "tuner/bracket: 0\n",
      "tuner/round: 0\n",
      "Score: 0.8547008633613586\n",
      "Trial summary\n",
      "Hyperparameters:\n",
      "units: 32\n",
      "learning_rate: 0.01\n",
      "tuner/epochs: 4\n",
      "tuner/initial_epoch: 0\n",
      "tuner/bracket: 1\n",
      "tuner/round: 0\n",
      "Score: 0.8504273295402527\n",
      "Trial summary\n",
      "Hyperparameters:\n",
      "units: 32\n",
      "learning_rate: 0.01\n",
      "tuner/epochs: 10\n",
      "tuner/initial_epoch: 4\n",
      "tuner/bracket: 1\n",
      "tuner/round: 1\n",
      "tuner/trial_id: 0021\n",
      "Score: 0.8461538553237915\n",
      "Trial summary\n",
      "Hyperparameters:\n",
      "units: 352\n",
      "learning_rate: 0.01\n",
      "tuner/epochs: 4\n",
      "tuner/initial_epoch: 2\n",
      "tuner/bracket: 2\n",
      "tuner/round: 1\n",
      "tuner/trial_id: 0008\n",
      "Score: 0.8418803215026855\n",
      "Trial summary\n",
      "Hyperparameters:\n",
      "units: 288\n",
      "learning_rate: 0.01\n",
      "tuner/epochs: 4\n",
      "tuner/initial_epoch: 2\n",
      "tuner/bracket: 2\n",
      "tuner/round: 1\n",
      "tuner/trial_id: 0010\n",
      "Score: 0.8376068472862244\n",
      "Trial summary\n",
      "Hyperparameters:\n",
      "units: 352\n",
      "learning_rate: 0.01\n",
      "tuner/epochs: 2\n",
      "tuner/initial_epoch: 0\n",
      "tuner/bracket: 2\n",
      "tuner/round: 0\n",
      "Score: 0.8247863054275513\n",
      "Trial summary\n",
      "Hyperparameters:\n",
      "units: 288\n",
      "learning_rate: 0.01\n",
      "tuner/epochs: 2\n",
      "tuner/initial_epoch: 0\n",
      "tuner/bracket: 2\n",
      "tuner/round: 0\n",
      "Score: 0.8162392973899841\n"
     ]
    }
   ],
   "source": [
    "tuner.results_summary()"
   ]
  },
  {
   "cell_type": "code",
   "execution_count": 323,
   "id": "552c735d",
   "metadata": {},
   "outputs": [],
   "source": [
    "best_hp=tuner.get_best_hyperparameters()[0]"
   ]
  },
  {
   "cell_type": "code",
   "execution_count": 324,
   "id": "f14b42ea",
   "metadata": {},
   "outputs": [
    {
     "name": "stdout",
     "output_type": "stream",
     "text": [
      "Model: \"sequential_2\"\n",
      "_________________________________________________________________\n",
      " Layer (type)                Output Shape              Param #   \n",
      "=================================================================\n",
      " flatten_2 (Flatten)         (None, 4)                 0         \n",
      "                                                                 \n",
      " dense_1 (Dense)             (None, 288)               1440      \n",
      "                                                                 \n",
      " dropout_2 (Dropout)         (None, 288)               0         \n",
      "                                                                 \n",
      " dense_2 (Dense)             (None, 10)                2890      \n",
      "                                                                 \n",
      "=================================================================\n",
      "Total params: 4,330\n",
      "Trainable params: 4,330\n",
      "Non-trainable params: 0\n",
      "_________________________________________________________________\n"
     ]
    }
   ],
   "source": [
    "h_model = tuner.hypermodel.build(best_hp)\n",
    "h_model.summary()"
   ]
  },
  {
   "cell_type": "code",
   "execution_count": 325,
   "id": "0bfbd8ed",
   "metadata": {},
   "outputs": [
    {
     "name": "stdout",
     "output_type": "stream",
     "text": [
      "Epoch 1/10\n",
      "30/30 [==============================] - 1s 7ms/step - loss: 1.5043 - accuracy: 0.6403 - val_loss: 0.7918 - val_accuracy: 0.8120\n",
      "Epoch 2/10\n",
      "30/30 [==============================] - 0s 3ms/step - loss: 0.7874 - accuracy: 0.7634 - val_loss: 0.5797 - val_accuracy: 0.8419\n",
      "Epoch 3/10\n",
      "30/30 [==============================] - 0s 3ms/step - loss: 0.6643 - accuracy: 0.7848 - val_loss: 0.6073 - val_accuracy: 0.7991\n",
      "Epoch 4/10\n",
      "30/30 [==============================] - 0s 3ms/step - loss: 0.6520 - accuracy: 0.7912 - val_loss: 0.5203 - val_accuracy: 0.8419\n",
      "Epoch 5/10\n",
      "30/30 [==============================] - 0s 3ms/step - loss: 0.6091 - accuracy: 0.8105 - val_loss: 0.5566 - val_accuracy: 0.8333\n",
      "Epoch 6/10\n",
      "30/30 [==============================] - 0s 3ms/step - loss: 0.6176 - accuracy: 0.7998 - val_loss: 0.5078 - val_accuracy: 0.8632\n",
      "Epoch 7/10\n",
      "30/30 [==============================] - 0s 3ms/step - loss: 0.5653 - accuracy: 0.8105 - val_loss: 0.4794 - val_accuracy: 0.8675\n",
      "Epoch 8/10\n",
      "30/30 [==============================] - 0s 3ms/step - loss: 0.5871 - accuracy: 0.8383 - val_loss: 0.5204 - val_accuracy: 0.8547\n",
      "Epoch 9/10\n",
      "30/30 [==============================] - 0s 3ms/step - loss: 0.5640 - accuracy: 0.8308 - val_loss: 0.5400 - val_accuracy: 0.8462\n",
      "Epoch 10/10\n",
      "30/30 [==============================] - 0s 3ms/step - loss: 0.5510 - accuracy: 0.8223 - val_loss: 0.5134 - val_accuracy: 0.8590\n"
     ]
    },
    {
     "data": {
      "text/plain": [
       "<keras.callbacks.History at 0x1eec376d9d0>"
      ]
     },
     "execution_count": 325,
     "metadata": {},
     "output_type": "execute_result"
    }
   ],
   "source": [
    "h_model.fit(X_train, y_train, epochs=10, validation_split=0.2)\n"
   ]
  },
  {
   "cell_type": "code",
   "execution_count": 326,
   "id": "961b7b0d",
   "metadata": {},
   "outputs": [
    {
     "name": "stdout",
     "output_type": "stream",
     "text": [
      "10/10 [==============================] - 0s 2ms/step - loss: 0.5513 - accuracy: 0.8259\n"
     ]
    },
    {
     "data": {
      "text/plain": [
       "[0.5513070225715637, 0.8259385824203491]"
      ]
     },
     "execution_count": 326,
     "metadata": {},
     "output_type": "execute_result"
    }
   ],
   "source": [
    "h_model.evaluate(X_test, y_test)"
   ]
  },
  {
   "cell_type": "code",
   "execution_count": null,
   "id": "2221fa59",
   "metadata": {},
   "outputs": [],
   "source": []
  }
 ],
 "metadata": {
  "kernelspec": {
   "display_name": "Python 3 (ipykernel)",
   "language": "python",
   "name": "python3"
  },
  "language_info": {
   "codemirror_mode": {
    "name": "ipython",
    "version": 3
   },
   "file_extension": ".py",
   "mimetype": "text/x-python",
   "name": "python",
   "nbconvert_exporter": "python",
   "pygments_lexer": "ipython3",
   "version": "3.9.12"
  }
 },
 "nbformat": 4,
 "nbformat_minor": 5
}

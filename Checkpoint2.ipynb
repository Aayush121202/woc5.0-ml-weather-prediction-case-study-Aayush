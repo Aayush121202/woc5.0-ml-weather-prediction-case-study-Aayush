{
 "cells": [
  {
   "cell_type": "code",
   "execution_count": 1,
   "id": "f2f90ac8",
   "metadata": {},
   "outputs": [],
   "source": [
    "#Ex-1\n",
    "#relu function"
   ]
  },
  {
   "cell_type": "code",
   "execution_count": 2,
   "id": "71aa2bd3",
   "metadata": {},
   "outputs": [],
   "source": [
    "def relu(x):\n",
    "    if x>=0:\n",
    "        ans=x\n",
    "    else:\n",
    "        ans=0\n",
    "    return ans"
   ]
  },
  {
   "cell_type": "code",
   "execution_count": 3,
   "id": "073ff1d8",
   "metadata": {},
   "outputs": [
    {
     "data": {
      "text/plain": [
       "0"
      ]
     },
     "execution_count": 3,
     "metadata": {},
     "output_type": "execute_result"
    }
   ],
   "source": [
    "relu(-3)"
   ]
  },
  {
   "cell_type": "code",
   "execution_count": 4,
   "id": "1b84c45c",
   "metadata": {},
   "outputs": [
    {
     "data": {
      "text/plain": [
       "5"
      ]
     },
     "execution_count": 4,
     "metadata": {},
     "output_type": "execute_result"
    }
   ],
   "source": [
    "relu(5)"
   ]
  },
  {
   "cell_type": "code",
   "execution_count": 5,
   "id": "fd54779b",
   "metadata": {},
   "outputs": [],
   "source": [
    "#Ex-2"
   ]
  },
  {
   "cell_type": "code",
   "execution_count": 6,
   "id": "617829a7",
   "metadata": {},
   "outputs": [],
   "source": [
    "a=[1,2,3,4,5,6]"
   ]
  },
  {
   "cell_type": "code",
   "execution_count": 7,
   "id": "2e738a36",
   "metadata": {},
   "outputs": [
    {
     "data": {
      "text/plain": [
       "[4, 5, 6]"
      ]
     },
     "execution_count": 7,
     "metadata": {},
     "output_type": "execute_result"
    }
   ],
   "source": [
    "a[3:]"
   ]
  }
 ],
 "metadata": {
  "kernelspec": {
   "display_name": "Python 3 (ipykernel)",
   "language": "python",
   "name": "python3"
  },
  "language_info": {
   "codemirror_mode": {
    "name": "ipython",
    "version": 3
   },
   "file_extension": ".py",
   "mimetype": "text/x-python",
   "name": "python",
   "nbconvert_exporter": "python",
   "pygments_lexer": "ipython3",
   "version": "3.9.12"
  }
 },
 "nbformat": 4,
 "nbformat_minor": 5
}
